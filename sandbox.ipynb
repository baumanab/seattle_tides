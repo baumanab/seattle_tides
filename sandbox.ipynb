{
 "cells": [
  {
   "cell_type": "markdown",
   "metadata": {},
   "source": [
    "#Sandbox for cleaning and wrangling tide data for use in a .js based visualization#\n",
    "\n",
    "**Author:**  Andrew Bauman, PhD\n",
    "\n",
    "**Purpose:**  Curate a data set for use in Udacity's Data Analyst Nanodegree\n",
    "Project 6, \"Make and Effective Data Visualization.\"\n"
   ]
  },
  {
   "cell_type": "markdown",
   "metadata": {},
   "source": [
    "## Import Modules ##\n",
    "I have gone overboard on package imports in this notebook with several examples\n",
    "of unused or redundant imports.  Also, I am relying heavily\n",
    "on global imports that won't exist in local namespace.  The final\n",
    "use of this sandbox will be to assemble a scripts for command line\n",
    "execution.  At that point I will sort out module imports."
   ]
  },
  {
   "cell_type": "code",
   "execution_count": 1,
   "metadata": {
    "collapsed": false
   },
   "outputs": [],
   "source": [
    "import pandas as pd\n",
    "import numpy as np\n",
    "from pandas.io.json import json_normalize\n",
    "from pandas.io.common import urlopen\n",
    "import urllib2\n",
    "from pandas.io import json\n",
    "from pprint import pprint\n",
    "import ephem\n",
    "import datetime\n",
    "import time\n",
    "from datetime import datetime\n",
    "import seaborn; seaborn.set()  # plot styling\n",
    "%matplotlib inline"
   ]
  },
  {
   "cell_type": "markdown",
   "metadata": {},
   "source": [
    "##Premise##\n",
    "\n",
    "I live near Carkeek park.  I can actually walk there (normal pace) in about 15-20 minutes.  Carkeek park is up the Puget Sound from Golden Gardens park, which is also very cool.  I like to hike between the parks, via the sound, and so do others.  The hike is ~2miles.  The tricky thing is knowing whether it is a good time to go \"at a glance\" or planning a hike in advance.  You need to know whether the tide will be in the correct zone (NGT 2ft) during a time of sufficient light and preferably no rain.  The ideal tide is negative, and the more negative the better.  The ideal weather would be clear and sunny, but not likely to rain would be fine.  So I'm thinking that the minimum conditions to start a hike (from the beach head at either side) should be:\n",
    "\n",
    "- NLT 1 hour of daylight (1 hour from sunrise or 1 hour after sunset)\n",
    "- 1 hour of water level NGT 2ft\n",
    "- LT 50% chance of rain (I now realize this is a tall order for more than 7 days out, so I'm dropping it for initial implementation, users can always look at the tide and daylight vis, then check local weather and decide if it is right for them)\n",
    "\n",
    "From there, there, good times could be parsed within the minimum paramaters."
   ]
  },
  {
   "cell_type": "markdown",
   "metadata": {},
   "source": [
    "This is the tide prediction relative to Mean Lower Low Water Level (MLLW,~ tide relative to mean low water level) for the main Seattle station.  Eventually I can calculate the Carkeek and Golden Gardens data from these values.  Note that the default behaviour for predictions is to return 6 minute prediction data.  I am adding &interval=h to the query to get hourly predictions.  This makes the dataset a little more manageble and also cuts its size by ~10x.\n",
    "\n",
    "Update, I decided to grab the 6 minute data as well.  I can always resample hourly."
   ]
  },
  {
   "cell_type": "code",
   "execution_count": 2,
   "metadata": {
    "collapsed": true
   },
   "outputs": [],
   "source": [
    "# Example query hourly data\n",
    "query_hourly = 'http://tidesandcurrents.noaa.gov/api/datagetter?begin_date=20150821%2015:00&end_date=20160820%2015:06&station=9447130&product=predictions&datum=mllw&units=english&time_zone=lst_ldt&interval=h&format=json'"
   ]
  },
  {
   "cell_type": "code",
   "execution_count": 3,
   "metadata": {
    "collapsed": true
   },
   "outputs": [],
   "source": [
    "# Example query 6 minute data\n",
    "query_6min = 'http://tidesandcurrents.noaa.gov/api/datagetter?begin_date=20150821%2015:00&end_date=20160820%2015:06&station=9447130&product=predictions&datum=mllw&units=english&time_zone=lst_ldt&format=json'"
   ]
  },
  {
   "cell_type": "markdown",
   "metadata": {},
   "source": [
    "Here is the actual object returned by the API call for hourly. Each record contains a string representing a datetime object and a value representing the tide level to MLLW"
   ]
  },
  {
   "cell_type": "code",
   "execution_count": 4,
   "metadata": {
    "collapsed": true
   },
   "outputs": [],
   "source": [
    "# EXample hourly JSON object\n",
    "obj_hourly= '{ \"predictions\" : [ {\"t\":\"2015-08-21 15:00\", \"v\":\"5.374\"},{\"t\":\"2015-08-21 16:00\", \"v\":\"5.167\"},{\"t\":\"2015-08-21 17:00\", \"v\":\"5.612\"},{\"t\":\"2015-08-21 18:00\", \"v\":\"6.570\"},{\"t\":\"2015-08-21 19:00\", \"v\":\"7.741\"},{\"t\":\"2015-08-21 20:00\", \"v\":\"8.877\"},{\"t\":\"2015-08-21 21:00\", \"v\":\"9.777\"},{\"t\":\"2015-08-21 22:00\", \"v\":\"10.174\"},{\"t\":\"2015-08-21 23:00\", \"v\":\"9.826\"},{\"t\":\"2015-08-22 00:00\", \"v\":\"8.723\"}]}'"
   ]
  },
  {
   "cell_type": "code",
   "execution_count": 5,
   "metadata": {
    "collapsed": true
   },
   "outputs": [],
   "source": [
    "# Example 6 minute JSON object\n",
    "obj_6min = '{ \"predictions\" : [ {\"t\":\"2015-08-21 15:00\", \"v\":\"5.374\"},{\"t\":\"2015-08-21 15:06\", \"v\":\"5.326\"},{\"t\":\"2015-08-21 15:12\", \"v\":\"5.284\"},{\"t\":\"2015-08-21 15:18\", \"v\":\"5.248\"},{\"t\":\"2015-08-21 15:24\", \"v\":\"5.217\"},{\"t\":\"2015-08-21 15:30\", \"v\":\"5.193\"},{\"t\":\"2015-08-21 15:36\", \"v\":\"5.175\"},{\"t\":\"2015-08-21 15:42\", \"v\":\"5.163\"},{\"t\":\"2015-08-21 15:48\", \"v\":\"5.158\"}-08-21 16:06\", \"v\":\"5.182\"}]}'"
   ]
  },
  {
   "cell_type": "markdown",
   "metadata": {},
   "source": [
    "It looks like I'm going to have to roll up my sleeves and munge this data.  Stand back..."
   ]
  },
  {
   "cell_type": "code",
   "execution_count": 6,
   "metadata": {
    "collapsed": true
   },
   "outputs": [],
   "source": [
    " base_url = 'http://tidesandcurrents.noaa.gov/api/datagetter?'"
   ]
  },
  {
   "cell_type": "code",
   "execution_count": 7,
   "metadata": {
    "collapsed": true
   },
   "outputs": [],
   "source": [
    "# dict of noaa query paramaters/arguments\n",
    "query_args = {    \n",
    "'begin_date':'20150821 00:00',\n",
    "'end_date':'20160820 23:00',\n",
    "'station':'9447130',\n",
    "'product':'predictions',\n",
    "'datum':'mllw',\n",
    "'units':'english',\n",
    "'time_zone':'lst_ldt',\n",
    "'format':'json'\n",
    "}"
   ]
  },
  {
   "cell_type": "code",
   "execution_count": 8,
   "metadata": {
    "collapsed": true
   },
   "outputs": [],
   "source": [
    "def query_builder(query_dict,base_url):\n",
    "    '''Function accepts a base url \n",
    "    and a query parameters/arguments dict\n",
    "    and returns an API query.\n",
    "    Note that NOAA COOPS API default is 6 minutes\n",
    "    and no interval need be specified in the dict'''\n",
    "\n",
    "    import urllib\n",
    "    \n",
    "    base_url = base_url\n",
    "\n",
    "    # encode arguments\n",
    "\n",
    "    encoded_args = urllib.urlencode(query_dict)\n",
    "\n",
    "    # create query from base url and encoded arguments\n",
    "\n",
    "    return base_url + encoded_args"
   ]
  },
  {
   "cell_type": "code",
   "execution_count": 9,
   "metadata": {
    "collapsed": true
   },
   "outputs": [],
   "source": [
    "def dt_periodizer(query_dict):\n",
    "    '''Function accepts a dictionary of query parameters\n",
    "    containing end and start dt objects and an interval and calculates\n",
    "    the number of periods that should be returned if all\n",
    "    periods of the requested interval are populated with\n",
    "    data. Note that NOAA COOPS API default is 6 minutes\n",
    "    and no interval need be specified in the dict'''\n",
    "    \n",
    "    begin = datetime.strptime(query_dict['begin_date'].replace(\" \",\"\"), '%Y%m%d%H:%M')\n",
    "    end = datetime.strptime(query_dict['end_date'].replace(\" \",\"\"), '%Y%m%d%H:%M')\n",
    "\n",
    "    d = end - begin\n",
    "\n",
    "    hours = (d.seconds/60/60) + (d.days * 24)\n",
    "\n",
    "    periods = hours * 10 # 10 6 minute periods per hour\n",
    "    \n",
    "    return periods, begin, end"
   ]
  },
  {
   "cell_type": "code",
   "execution_count": 10,
   "metadata": {
    "collapsed": false
   },
   "outputs": [
    {
     "data": {
      "text/plain": [
       "'http://tidesandcurrents.noaa.gov/api/datagetter?product=predictions&station=9447130&begin_date=20150821+00%3A00&end_date=20160820+23%3A00&format=json&units=english&datum=mllw&time_zone=lst_ldt'"
      ]
     },
     "execution_count": 10,
     "metadata": {},
     "output_type": "execute_result"
    }
   ],
   "source": [
    "noaa_query = query_builder(query_args,base_url)\n",
    "noaa_query"
   ]
  },
  {
   "cell_type": "code",
   "execution_count": 11,
   "metadata": {
    "collapsed": false
   },
   "outputs": [
    {
     "data": {
      "text/plain": [
       "87830"
      ]
     },
     "execution_count": 11,
     "metadata": {},
     "output_type": "execute_result"
    }
   ],
   "source": [
    "periods, begin, end = dt_periodizer(query_args)\n",
    "periods"
   ]
  },
  {
   "cell_type": "code",
   "execution_count": 12,
   "metadata": {
    "collapsed": false
   },
   "outputs": [
    {
     "data": {
      "text/plain": [
       "'2015-08-21 00:00:00'"
      ]
     },
     "execution_count": 12,
     "metadata": {},
     "output_type": "execute_result"
    }
   ],
   "source": [
    "begin.strftime('%Y-%m-%d %H:%M:%S')"
   ]
  },
  {
   "cell_type": "code",
   "execution_count": 13,
   "metadata": {
    "collapsed": false
   },
   "outputs": [],
   "source": [
    "def get_COOPS_json(query_dict, base_url):\n",
    "    '''Function accepts a NOAA tides and currents prediction query\n",
    "    with form= json (query returns json object).\n",
    "    Function returns the hourly prediction data as a PANDAS DataFrame Object\n",
    "    where the returned time becomes the datetime index.'''\n",
    "    \n",
    "    \n",
    "    # import dependencies\n",
    "    import pandas as pd\n",
    "    import numpy as np\n",
    "    from pandas.io.common import urlopen\n",
    "    from pandas.io import json  \n",
    "    \n",
    "    # construct the query\n",
    "    \n",
    "    query = query_builder(query_dict,base_url)    \n",
    "    \n",
    "    \n",
    "    # execute query and read response\n",
    "        \n",
    "    with urlopen(query) as response:\n",
    "        data = response.read()\n",
    "\n",
    "        \n",
    "        # convert json object to python dictionary\n",
    "        # and extract time and values for predictions\n",
    "\n",
    "        data = json.loads(data)['predictions']\n",
    "\n",
    "        # read into PANDAS DataFrame, then manipulate\n",
    "        # DataFrame object\n",
    "        data = pd.DataFrame(data)\n",
    "        data.columns = ['Date_Time','Level']\n",
    "        data.index = data.Date_Time \n",
    "        data.index = pd.to_datetime(data.index)\n",
    "        data =data.drop('Date_Time',axis=1)\n",
    "\n",
    "        # reindex to fill in any missing time values, this needs\n",
    "        # work to initialize the range on the data/query vs. hardcoding as it \n",
    "        # currently stands.\n",
    "        \n",
    "        periods, begin, end = dt_periodizer(query_dict)\n",
    "        \n",
    "        begin_string = begin.strftime('%Y-%m-%d %H:%M:%S')\n",
    "\n",
    "        rng = pd.date_range(begin_string, periods = periods, freq='6min')\n",
    "\n",
    "        # the actual reindex itself needs to be reworked for a better fill\n",
    "        # a good start might be the median of the points directly above and\n",
    "        # below the missing dt index. Since this is very few points typically\n",
    "        # I am filling them with 100 for easy removal later. I would rather\n",
    "        # remove the points than fill in a nonmeasured value.\n",
    "\n",
    "        data  = data.reindex(rng, fill_value= 100)\n",
    "\n",
    "\n",
    "        # convert value from string to float\n",
    "        data.Level = data.Level.astype(float)\n",
    "\n",
    "        # adjust level to account for distance of Carkeek from NOAA\n",
    "        # monitoring station (+ 5.5%)\n",
    "        data.Level = np.round(data.Level + (.05 * data.Level),decimals=2)\n",
    "\n",
    "        # add date column to dataframe for later use with weather data\n",
    "        data['Date'] = data.index.date\n",
    "\n",
    "        # add a column for hourly re-sample\n",
    "\n",
    "        #data['Hour'] = data.index.hour\n",
    "        #data['Time'] = data.index.time\n",
    "\n",
    "\n",
    "\n",
    "\n",
    "        # return DataFrame object\n",
    "        return data"
   ]
  },
  {
   "cell_type": "code",
   "execution_count": 14,
   "metadata": {
    "collapsed": false
   },
   "outputs": [],
   "source": [
    "df_sixmin = get_COOPS_json(query_args,base_url)"
   ]
  },
  {
   "cell_type": "code",
   "execution_count": 15,
   "metadata": {
    "collapsed": false
   },
   "outputs": [
    {
     "data": {
      "text/html": [
       "<div>\n",
       "<table border=\"1\" class=\"dataframe\">\n",
       "  <thead>\n",
       "    <tr style=\"text-align: right;\">\n",
       "      <th></th>\n",
       "      <th>Level</th>\n",
       "      <th>Date</th>\n",
       "    </tr>\n",
       "  </thead>\n",
       "  <tbody>\n",
       "    <tr>\n",
       "      <th>2015-08-21 00:00:00</th>\n",
       "      <td>8.26</td>\n",
       "      <td>2015-08-21</td>\n",
       "    </tr>\n",
       "    <tr>\n",
       "      <th>2015-08-21 00:06:00</th>\n",
       "      <td>8.07</td>\n",
       "      <td>2015-08-21</td>\n",
       "    </tr>\n",
       "    <tr>\n",
       "      <th>2015-08-21 00:12:00</th>\n",
       "      <td>7.87</td>\n",
       "      <td>2015-08-21</td>\n",
       "    </tr>\n",
       "    <tr>\n",
       "      <th>2015-08-21 00:18:00</th>\n",
       "      <td>7.68</td>\n",
       "      <td>2015-08-21</td>\n",
       "    </tr>\n",
       "    <tr>\n",
       "      <th>2015-08-21 00:24:00</th>\n",
       "      <td>7.48</td>\n",
       "      <td>2015-08-21</td>\n",
       "    </tr>\n",
       "  </tbody>\n",
       "</table>\n",
       "</div>"
      ],
      "text/plain": [
       "                     Level        Date\n",
       "2015-08-21 00:00:00   8.26  2015-08-21\n",
       "2015-08-21 00:06:00   8.07  2015-08-21\n",
       "2015-08-21 00:12:00   7.87  2015-08-21\n",
       "2015-08-21 00:18:00   7.68  2015-08-21\n",
       "2015-08-21 00:24:00   7.48  2015-08-21"
      ]
     },
     "execution_count": 15,
     "metadata": {},
     "output_type": "execute_result"
    }
   ],
   "source": [
    "df_sixmin.head()"
   ]
  },
  {
   "cell_type": "code",
   "execution_count": 16,
   "metadata": {
    "collapsed": false
   },
   "outputs": [
    {
     "name": "stdout",
     "output_type": "stream",
     "text": [
      "<class 'pandas.core.frame.DataFrame'>\n",
      "DatetimeIndex: 87830 entries, 2015-08-21 00:00:00 to 2016-08-20 22:54:00\n",
      "Freq: 6T\n",
      "Data columns (total 2 columns):\n",
      "Level    87830 non-null float64\n",
      "Date     87830 non-null object\n",
      "dtypes: float64(1), object(1)\n",
      "memory usage: 2.0+ MB\n"
     ]
    }
   ],
   "source": [
    "df_sixmin.info()"
   ]
  },
  {
   "cell_type": "markdown",
   "metadata": {},
   "source": [
    "making some notes on how services calculate carkeek park tides.  pipers creek entrance is ~ .6m away."
   ]
  },
  {
   "cell_type": "markdown",
   "metadata": {},
   "source": [
    "The Data\n",
    "Tide times data has been adjusted for daylight saving where and when applicable. WillyWeather interpolates its tide times for many locations by converting the tide forecasts provided by the National Oceanic and Atmospheric Administration. The tide times on the Pipers Creek Entrance tides page have been adjusted by -2 mins for low tide and 1 mins for high tide to the official tide times for Seattle. Tide height data is offset from Seattle by %5% feet for high tide and %6% feet for low tide."
   ]
  },
  {
   "cell_type": "markdown",
   "metadata": {},
   "source": [
    "meadowpoint may actually be the closest place noaa takes data to carkeek"
   ]
  },
  {
   "cell_type": "markdown",
   "metadata": {},
   "source": [
    "The Data\n",
    "Tide times data has been adjusted for daylight saving where and when applicable. WillyWeather interpolates its tide times for many locations by converting the tide forecasts provided by the National Oceanic and Atmospheric Administration. The tide times on the Meadow Point tides page have been adjusted by -1 mins for low tide and 0 mins for high tide to the official tide times for Seattle. Tide height data is offset from Seattle by %5% feet for high tide and %6% feet for low tide."
   ]
  },
  {
   "cell_type": "markdown",
   "metadata": {},
   "source": [
    "I'm not really concerned about 1 or 2 minute, but 5-6% on tide heights may make a slight difference so I'll incorporate that.  I'm going to adjust every tide level by + 5.5%"
   ]
  },
  {
   "cell_type": "markdown",
   "metadata": {},
   "source": [
    "## Sunrise and Sunset\n",
    "\n",
    "Starter code for sunrise and sunset calculations.  Note that this takes a long time to execute using every row in the index.  A better approach would be to make the calculation just for the days.  That way you would make the calculation no more than 365 times.  "
   ]
  },
  {
   "cell_type": "code",
   "execution_count": 17,
   "metadata": {
    "collapsed": true
   },
   "outputs": [],
   "source": [
    "# write function to populate df with sunrise and sunset\n",
    "# note that date will need formatting and conversion to local time\n",
    "\n",
    "def get_sunrise_sunset(date, lon= -122.3783, lat= 47.7128):\n",
    "    \n",
    "    '''Function accepts a date string, and location float coordinates\n",
    "    Function returns local, sunrise and sunset time\n",
    "    datetime objects'''\n",
    "    \n",
    "    #import ephem\n",
    "    #from datetime import datetime\n",
    "\n",
    "    # Make an observer\n",
    "    o = ephem.Observer()\n",
    "\n",
    "    # PyEphem takes and returns only UTC times. 19:00 is Noon PDT, 20:00 is Noon PST\n",
    "    # Using a string conversion and operation, which is probably slow\n",
    "    # and could use optimization\n",
    "    o.date = str(date) + ' 19:00'\n",
    "    \n",
    "\n",
    "    # Location of Carkeek Park\n",
    "    o.lon  = str(lon) #Note that lon should be in string format\n",
    "    o.lat  = str(lat) #Note that lat should be in string format\n",
    "\n",
    "    # Elevation of the beach extending from Carkeek Park\n",
    "    o.elev = 0\n",
    "\n",
    "\n",
    "    sunrise=o.previous_rising(ephem.Sun()) #Sunrise\n",
    "    sunset =o.next_setting(ephem.Sun()) #Sunset\n",
    "    \n",
    "    # convert sunrise and sunset to localtime (PDT/PST)\n",
    "    local_sunrise = ephem.localtime(ephem.date(sunrise))\n",
    "    local_sunset = ephem.localtime(ephem.date(sunset))\n",
    "    \n",
    "    return {'sunrise':local_sunrise,'sunset':local_sunset}"
   ]
  },
  {
   "cell_type": "code",
   "execution_count": 18,
   "metadata": {
    "collapsed": true
   },
   "outputs": [],
   "source": [
    "def strip_timestamp(timestamp):\n",
    "    '''Function accepts a timestamp and strips date and microseconds\n",
    "    returning hours, minutes, seconds'''\n",
    "    \n",
    "    timestamp = timestamp.time()\n",
    "    timestamp = timestamp.replace(microsecond = 0)\n",
    "    \n",
    "    return timestamp"
   ]
  },
  {
   "cell_type": "raw",
   "metadata": {
    "collapsed": false
   },
   "source": [
    "# code to strip out microseconds from the timestamp\n",
    "# not currently used\n",
    "\n",
    "df_sixmin['Sunrise'] = df_sixmin.Date.apply(lambda x:strip_timestamp(get_sunrise_sunset(x)['sunrise']))\n",
    "df_sixmin['Sunset'] = df_sixmin.Date.apply(lambda x:strip_timestamp(get_sunrise_sunset(x)['sunset']))"
   ]
  },
  {
   "cell_type": "markdown",
   "metadata": {},
   "source": [
    "The following is a set of anonymous functions (lambda) for the purposes of making \n",
    "vectorized calcualtions using the dt index.  I created these as I explored the data\n",
    "and encountered challenges.  Many of these functions could be used more efficiently,\n",
    "some can be eliminated, some combined.  At the very least I calculate and recalculate\n",
    "comparator and bounds colmuns, which should only be done once.  This will be sorted\n",
    "for the .py script."
   ]
  },
  {
   "cell_type": "code",
   "execution_count": 19,
   "metadata": {
    "collapsed": false
   },
   "outputs": [],
   "source": [
    "# lambda function to calculate sunrise and sunset times and populate df columns\n",
    "\n",
    "df_sixmin['Sunrise_dt'] = df_sixmin.Date.apply(lambda x:get_sunrise_sunset(x)['sunrise'])\n",
    "df_sixmin['Sunset_dt'] = df_sixmin.Date.apply(lambda x:get_sunrise_sunset(x)['sunset'])"
   ]
  },
  {
   "cell_type": "code",
   "execution_count": 20,
   "metadata": {
    "collapsed": false
   },
   "outputs": [],
   "source": [
    "# lambda functions to calculate time until sunrise and sunset for each dt object\n",
    "\n",
    "df_sixmin['Delta_Sunrise'] = (df_sixmin.index - df_sixmin.Sunrise_dt)\n",
    "df_sixmin['Delta_Sunset'] = (df_sixmin.index - df_sixmin.Sunset_dt)\n",
    "\n",
    "# lambda functiions to convert Timedelta to integer number of hours\n",
    "\n",
    "df_sixmin.Delta_Sunset = df_sixmin.Delta_Sunset.apply(lambda x: x/np.timedelta64(1, 's')/3600)\n",
    "df_sixmin.Delta_Sunrise = df_sixmin.Delta_Sunrise.apply(lambda x: x/np.timedelta64(1, 's')/3600)"
   ]
  },
  {
   "cell_type": "markdown",
   "metadata": {},
   "source": [
    "Okay now we have established how to index by a timedelta, let's create the actual comparisons.\n",
    "\n",
    "- enough light:  Is there at least 1 hour of sunlight as defined by sunrise and sunset times\n",
    "- enough beach:  Is there at least 1 hour of beach left (tide 2 feet or below)\n",
    "- start the hike or not?\n"
   ]
  },
  {
   "cell_type": "code",
   "execution_count": 21,
   "metadata": {
    "collapsed": false
   },
   "outputs": [],
   "source": [
    "def enough_light(df):\n",
    "    '''Function accepts a dataframe and \n",
    "    returns a string, yes or no, where yes\n",
    "    indicates there is at least 1 hour of daylight left'''\n",
    "    \n",
    "    if df['Delta_Sunrise'] >= -.5 and df['Delta_Sunset'] <= -1:\n",
    "        return 'yes'\n",
    "    else:\n",
    "        return 'no'"
   ]
  },
  {
   "cell_type": "code",
   "execution_count": 22,
   "metadata": {
    "collapsed": false
   },
   "outputs": [],
   "source": [
    "# lambda function to determine if there is at least 1 hour of light left for a dt object\n",
    "\n",
    "df_sixmin['enough_light'] = df_sixmin.apply(lambda x: enough_light(x),axis =1)"
   ]
  },
  {
   "cell_type": "code",
   "execution_count": 23,
   "metadata": {
    "collapsed": true
   },
   "outputs": [],
   "source": [
    "# create dt object shifted 1 hour forward from dt index\n",
    "\n",
    "shift_ts = df_sixmin.index + pd.Timedelta('1h')\n",
    "\n",
    "# shift_ts.isin(df_sixmin.index) is boolean to determine iif shifted value exists in the dt index\n",
    "# several rows on the tail will have a shift_ts that is not in the index\n",
    "\n",
    "# lambda function to determine if shifted_ts is in bounds or not\n",
    "\n",
    "df_sixmin['inbounds_ts'] = df_sixmin.apply(lambda x: shift_ts.isin(x.index)).Level"
   ]
  },
  {
   "cell_type": "code",
   "execution_count": 24,
   "metadata": {
    "collapsed": true
   },
   "outputs": [],
   "source": [
    "# accessing the index for axis = 1 lambda functions can be a challenge\n",
    "# this is being handled by creating a column that matches the dt object\n",
    "# index values.\n",
    "\n",
    "df_sixmin['temp_index'] = df_sixmin.index"
   ]
  },
  {
   "cell_type": "code",
   "execution_count": 25,
   "metadata": {
    "collapsed": true
   },
   "outputs": [],
   "source": [
    "def shift_ts(row):\n",
    "    '''Functions accepts a boolean row from a PANDAS DF,\n",
    "    evaluates whether it is T or F and returns either\n",
    "    the dt object or the 1 hour shifted dt object\n",
    "    from a column represeting the dt index'''\n",
    "    \n",
    "    if row.inbounds_ts == True:\n",
    "        return row.temp_index + pd.Timedelta('1h')\n",
    "    else:\n",
    "        return row.temp_index"
   ]
  },
  {
   "cell_type": "code",
   "execution_count": 26,
   "metadata": {
    "collapsed": false
   },
   "outputs": [],
   "source": [
    "# lambda function to create a column with index dt + Timdedelta('1h')\n",
    "\n",
    "df_sixmin['shift_ts'] = df_sixmin.apply(lambda x: shift_ts(x),axis=1)"
   ]
  },
  {
   "cell_type": "code",
   "execution_count": 27,
   "metadata": {
    "collapsed": false
   },
   "outputs": [],
   "source": [
    "# lambda function to create a column with the tide level 1 hour from the dt index\n",
    "\n",
    "df_sixmin['shift_level'] = df_sixmin[['Level','shift_ts']].apply(lambda x: df_sixmin.loc[x[1]],axis =1).Level"
   ]
  },
  {
   "cell_type": "code",
   "execution_count": 28,
   "metadata": {
    "collapsed": true
   },
   "outputs": [],
   "source": [
    "# select columns of interest\n",
    "\n",
    "cols = ['Level', 'Delta_Sunset','Delta_Sunrise','enough_light','shift_level']\n",
    "df_sixmin = df_sixmin[cols]"
   ]
  },
  {
   "cell_type": "code",
   "execution_count": 29,
   "metadata": {
    "collapsed": false
   },
   "outputs": [],
   "source": [
    "def enough_beach(row):\n",
    "    '''Function accepts a dataframe and \n",
    "    returns a string, yes or no, where yes\n",
    "    indicates there is at least 1 hour where\n",
    "    the tide is <= 2 feet'''\n",
    "    \n",
    "    if row.shift_level <= 2 and row.Level <=2:\n",
    "        return 'yes'\n",
    "    else:\n",
    "        return 'no'"
   ]
  },
  {
   "cell_type": "code",
   "execution_count": 30,
   "metadata": {
    "collapsed": false
   },
   "outputs": [],
   "source": [
    "# lambda functon to determine if there is enough beach (tide <=2ft)\n",
    "# at time 1 hour out from current row/dt index\n",
    "\n",
    "df_sixmin['enough_beach'] = df_sixmin.apply(lambda x: enough_beach(x), axis=1)"
   ]
  },
  {
   "cell_type": "code",
   "execution_count": 31,
   "metadata": {
    "collapsed": true
   },
   "outputs": [],
   "source": [
    "def go_stay(row):\n",
    "    \n",
    "    ''' Function accepts PANDAS DF row, \n",
    "    evaluates the value of enough_light and enough_beach\n",
    "    then returns a value of either wait or walk (stay\n",
    "    at the park or travel to Golden Gardens)'''\n",
    "    \n",
    "    if row.enough_light == 'yes' and row.enough_beach == 'yes':\n",
    "        return 'walk'\n",
    "    else:\n",
    "        return 'wait'"
   ]
  },
  {
   "cell_type": "code",
   "execution_count": 32,
   "metadata": {
    "collapsed": false
   },
   "outputs": [],
   "source": [
    "# lambda function which populates DF column with the result\n",
    "# of stay (stay at park) or go (enough light and beach to make hike)\n",
    "\n",
    "df_sixmin['go_stay'] = df_sixmin.apply(lambda x: go_stay(x), axis =1)"
   ]
  },
  {
   "cell_type": "markdown",
   "metadata": {},
   "source": [
    "### Debugging 1 ###"
   ]
  },
  {
   "cell_type": "code",
   "execution_count": 33,
   "metadata": {
    "collapsed": true
   },
   "outputs": [],
   "source": [
    "df_sixmin['Date'] = df_sixmin.index.date\n",
    "\n",
    "date_selector = df_sixmin.Date == pd.datetime(2015,8,23,0,0).date()\n",
    "date_selector2 = df_sixmin.Date == pd.datetime(2015,8,22,0,0).date()\n",
    "date_selector_sep = df_sixmin.Date == pd.datetime(2015,9,26,0,0).date()\n",
    "\n"
   ]
  },
  {
   "cell_type": "raw",
   "metadata": {
    "collapsed": true
   },
   "source": [
    "df_sixmin[['Level','shift_level','enough_light','enough_beach','Date','go_stay']][date_selector][50:80]"
   ]
  },
  {
   "cell_type": "markdown",
   "metadata": {},
   "source": [
    "I noticed the data visualization in dimple didn't look quite right for 22 August 2015. Note that there aren't any walk times, but it passed the filter.  See df_enough selection below.  This is because I am selecting on enough light and enough beach but not if they occur simaltaneously.  I will fix this by selecting for both he presence of start and stop."
   ]
  },
  {
   "cell_type": "code",
   "execution_count": 34,
   "metadata": {
    "collapsed": false
   },
   "outputs": [
    {
     "data": {
      "text/plain": [
       "{False}"
      ]
     },
     "execution_count": 34,
     "metadata": {},
     "output_type": "execute_result"
    }
   ],
   "source": [
    "set(df_sixmin[['Level','shift_level','enough_light','enough_beach','Date','go_stay']][date_selector2].go_stay == \"walk\")"
   ]
  },
  {
   "cell_type": "markdown",
   "metadata": {},
   "source": [
    "Visualising the data I also noticed that there were several days where the hike window started at a level above 2 feet, but fell to 2 feet or below withing 1 hour.  September 26 was one such day.  The issue is with the enough_beach calculation.  The original enough_beach calculation was as follows:\n",
    "\n",
    "def enough_beach(row):\n",
    "    '''Function accepts a dataframe and \n",
    "    returns a string, yes or no, where yes\n",
    "    indicates there is at least 1 hour where\n",
    "    the tide is <= 2 feet'''\n",
    "    \n",
    "    if row.shift_level <= 2:\n",
    "        return 'yes'\n",
    "    else:\n",
    "        return 'no'\n",
    "        \n",
    "As you can see, this only checks 1 hour forward.  This works well for the end of the hike window, but not the begginning.  To start a hike two things would have to be true.  Both the current level and the level 1 hour forward would have to meet the condition of NGT 2 feet. \n",
    "\n",
    "Changing to the the following seems to have fixed the issue:\n",
    "\n",
    "def enough_beach(row):\n",
    "    '''Function accepts a dataframe and \n",
    "    returns a string, yes or no, where yes\n",
    "    indicates there is at least 1 hour where\n",
    "    the tide is <= 2 feet'''\n",
    "    \n",
    "    if row.shift_level <= 2 and row.Level <=2:\n",
    "        return 'yes'\n",
    "    else:\n",
    "        return 'no'\n"
   ]
  },
  {
   "cell_type": "raw",
   "metadata": {},
   "source": [
    "df_sixmin[['Level','shift_level','enough_light','enough_beach','Date','go_stay']][date_selector_sep][80:110]"
   ]
  },
  {
   "cell_type": "markdown",
   "metadata": {},
   "source": [
    "### End Debugging 1 ###"
   ]
  },
  {
   "cell_type": "code",
   "execution_count": 35,
   "metadata": {
    "collapsed": false
   },
   "outputs": [],
   "source": [
    "# create dt object shifted 6 minutes forward from dt index\n",
    "\n",
    "shift_6min_ts = df_sixmin.index + pd.Timedelta('6m')\n",
    "\n",
    "# shift_6min_ts.isin(df_sixmin.index) is boolean to determine if shifted value exists in the dt index\n",
    "# several rows on the tail will have a shift_6min_ts that is not in the index\n",
    "\n",
    "# lambda function to determine if shifted_6min_ts is in bounds or not\n",
    "\n",
    "df_sixmin['inbounds_6min_ts'] = df_sixmin.apply(lambda x: shift_6min_ts.isin(x.index)).Level"
   ]
  },
  {
   "cell_type": "code",
   "execution_count": 36,
   "metadata": {
    "collapsed": false
   },
   "outputs": [],
   "source": [
    "# accessing the index for axis = 1 lambda functions can be a challenge\n",
    "# this is being handled by creating a column that matches the dt object\n",
    "# index values.\n",
    "\n",
    "df_sixmin['temp_index'] = df_sixmin.index"
   ]
  },
  {
   "cell_type": "code",
   "execution_count": 37,
   "metadata": {
    "collapsed": true
   },
   "outputs": [],
   "source": [
    "def shift_ts_6min(row,shift_string):\n",
    "    '''Functions accepts a boolean row from a PANDAS DF,\n",
    "    and a time shift string (i.e. '1h', '1m')\n",
    "    evaluates whether it is T or F and returns either\n",
    "    the dt object or the time shifted dt object\n",
    "    from a column represeting the dt index'''\n",
    "    \n",
    "    if row.inbounds_6min_ts == True:\n",
    "        return row.temp_index + pd.Timedelta(shift_string)\n",
    "    else:\n",
    "        return row.temp_index"
   ]
  },
  {
   "cell_type": "code",
   "execution_count": 38,
   "metadata": {
    "collapsed": false
   },
   "outputs": [],
   "source": [
    "# lambda function to create a column with index dt + Timdedelta('6m')\n",
    "\n",
    "df_sixmin['shift_6min_ts'] = df_sixmin.apply(lambda x: shift_ts_6min(x,'6m'),axis=1)"
   ]
  },
  {
   "cell_type": "code",
   "execution_count": 39,
   "metadata": {
    "collapsed": true
   },
   "outputs": [],
   "source": [
    "# lambda function to create a column with the go_stay status 6 minutes from the dt index\n",
    "\n",
    "df_sixmin['next_status'] = df_sixmin[['go_stay','shift_6min_ts']].apply(lambda x: df_sixmin.loc[x[1]],axis =1).go_stay"
   ]
  },
  {
   "cell_type": "code",
   "execution_count": 40,
   "metadata": {
    "collapsed": true
   },
   "outputs": [],
   "source": [
    "def start_stop(row):\n",
    "    \n",
    "    '''Function excepts a PANDAS DF row and determines\n",
    "    the current condition (wait/stay or go), compares it\n",
    "    to the condition at the next timedelta, and \n",
    "    returns wait/stay, earliest start, walk/go, or latest start'''\n",
    "    current_condition = row.go_stay\n",
    "    next_condition = row.next_status\n",
    "    \n",
    "    if current_condition == next_condition:\n",
    "        return current_condition\n",
    "    elif current_condition != next_condition:\n",
    "        if next_condition == 'walk':\n",
    "            return 'earliest_start'\n",
    "        else:\n",
    "            return 'latest_start'"
   ]
  },
  {
   "cell_type": "code",
   "execution_count": 41,
   "metadata": {
    "collapsed": true
   },
   "outputs": [],
   "source": [
    "# lambda function to populate the a start_stop DF column with the results\n",
    "# of the start_stop function (returns wait/stay, stop, go, or start)\n",
    "\n",
    "df_sixmin['start_stop'] = df_sixmin.apply(lambda x: start_stop(x), axis=1)"
   ]
  },
  {
   "cell_type": "code",
   "execution_count": 42,
   "metadata": {
    "collapsed": false,
    "scrolled": true
   },
   "outputs": [
    {
     "data": {
      "text/html": [
       "<div>\n",
       "<table border=\"1\" class=\"dataframe\">\n",
       "  <thead>\n",
       "    <tr style=\"text-align: right;\">\n",
       "      <th></th>\n",
       "      <th>go_stay</th>\n",
       "      <th>next_status</th>\n",
       "      <th>start_stop</th>\n",
       "    </tr>\n",
       "  </thead>\n",
       "  <tbody>\n",
       "    <tr>\n",
       "      <th>2015-08-21 00:00:00</th>\n",
       "      <td>wait</td>\n",
       "      <td>wait</td>\n",
       "      <td>wait</td>\n",
       "    </tr>\n",
       "    <tr>\n",
       "      <th>2015-08-21 00:06:00</th>\n",
       "      <td>wait</td>\n",
       "      <td>wait</td>\n",
       "      <td>wait</td>\n",
       "    </tr>\n",
       "    <tr>\n",
       "      <th>2015-08-21 00:12:00</th>\n",
       "      <td>wait</td>\n",
       "      <td>wait</td>\n",
       "      <td>wait</td>\n",
       "    </tr>\n",
       "    <tr>\n",
       "      <th>2015-08-21 00:18:00</th>\n",
       "      <td>wait</td>\n",
       "      <td>wait</td>\n",
       "      <td>wait</td>\n",
       "    </tr>\n",
       "    <tr>\n",
       "      <th>2015-08-21 00:24:00</th>\n",
       "      <td>wait</td>\n",
       "      <td>wait</td>\n",
       "      <td>wait</td>\n",
       "    </tr>\n",
       "    <tr>\n",
       "      <th>2015-08-21 00:30:00</th>\n",
       "      <td>wait</td>\n",
       "      <td>wait</td>\n",
       "      <td>wait</td>\n",
       "    </tr>\n",
       "    <tr>\n",
       "      <th>2015-08-21 00:36:00</th>\n",
       "      <td>wait</td>\n",
       "      <td>wait</td>\n",
       "      <td>wait</td>\n",
       "    </tr>\n",
       "    <tr>\n",
       "      <th>2015-08-21 00:42:00</th>\n",
       "      <td>wait</td>\n",
       "      <td>wait</td>\n",
       "      <td>wait</td>\n",
       "    </tr>\n",
       "    <tr>\n",
       "      <th>2015-08-21 00:48:00</th>\n",
       "      <td>wait</td>\n",
       "      <td>wait</td>\n",
       "      <td>wait</td>\n",
       "    </tr>\n",
       "    <tr>\n",
       "      <th>2015-08-21 00:54:00</th>\n",
       "      <td>wait</td>\n",
       "      <td>wait</td>\n",
       "      <td>wait</td>\n",
       "    </tr>\n",
       "    <tr>\n",
       "      <th>2015-08-21 01:00:00</th>\n",
       "      <td>wait</td>\n",
       "      <td>wait</td>\n",
       "      <td>wait</td>\n",
       "    </tr>\n",
       "    <tr>\n",
       "      <th>2015-08-21 01:06:00</th>\n",
       "      <td>wait</td>\n",
       "      <td>wait</td>\n",
       "      <td>wait</td>\n",
       "    </tr>\n",
       "    <tr>\n",
       "      <th>2015-08-21 01:12:00</th>\n",
       "      <td>wait</td>\n",
       "      <td>wait</td>\n",
       "      <td>wait</td>\n",
       "    </tr>\n",
       "    <tr>\n",
       "      <th>2015-08-21 01:18:00</th>\n",
       "      <td>wait</td>\n",
       "      <td>wait</td>\n",
       "      <td>wait</td>\n",
       "    </tr>\n",
       "    <tr>\n",
       "      <th>2015-08-21 01:24:00</th>\n",
       "      <td>wait</td>\n",
       "      <td>wait</td>\n",
       "      <td>wait</td>\n",
       "    </tr>\n",
       "    <tr>\n",
       "      <th>2015-08-21 01:30:00</th>\n",
       "      <td>wait</td>\n",
       "      <td>wait</td>\n",
       "      <td>wait</td>\n",
       "    </tr>\n",
       "    <tr>\n",
       "      <th>2015-08-21 01:36:00</th>\n",
       "      <td>wait</td>\n",
       "      <td>wait</td>\n",
       "      <td>wait</td>\n",
       "    </tr>\n",
       "    <tr>\n",
       "      <th>2015-08-21 01:42:00</th>\n",
       "      <td>wait</td>\n",
       "      <td>wait</td>\n",
       "      <td>wait</td>\n",
       "    </tr>\n",
       "    <tr>\n",
       "      <th>2015-08-21 01:48:00</th>\n",
       "      <td>wait</td>\n",
       "      <td>wait</td>\n",
       "      <td>wait</td>\n",
       "    </tr>\n",
       "    <tr>\n",
       "      <th>2015-08-21 01:54:00</th>\n",
       "      <td>wait</td>\n",
       "      <td>wait</td>\n",
       "      <td>wait</td>\n",
       "    </tr>\n",
       "    <tr>\n",
       "      <th>2015-08-21 02:00:00</th>\n",
       "      <td>wait</td>\n",
       "      <td>wait</td>\n",
       "      <td>wait</td>\n",
       "    </tr>\n",
       "    <tr>\n",
       "      <th>2015-08-21 02:06:00</th>\n",
       "      <td>wait</td>\n",
       "      <td>wait</td>\n",
       "      <td>wait</td>\n",
       "    </tr>\n",
       "    <tr>\n",
       "      <th>2015-08-21 02:12:00</th>\n",
       "      <td>wait</td>\n",
       "      <td>wait</td>\n",
       "      <td>wait</td>\n",
       "    </tr>\n",
       "    <tr>\n",
       "      <th>2015-08-21 02:18:00</th>\n",
       "      <td>wait</td>\n",
       "      <td>wait</td>\n",
       "      <td>wait</td>\n",
       "    </tr>\n",
       "    <tr>\n",
       "      <th>2015-08-21 02:24:00</th>\n",
       "      <td>wait</td>\n",
       "      <td>wait</td>\n",
       "      <td>wait</td>\n",
       "    </tr>\n",
       "    <tr>\n",
       "      <th>2015-08-21 02:30:00</th>\n",
       "      <td>wait</td>\n",
       "      <td>wait</td>\n",
       "      <td>wait</td>\n",
       "    </tr>\n",
       "    <tr>\n",
       "      <th>2015-08-21 02:36:00</th>\n",
       "      <td>wait</td>\n",
       "      <td>wait</td>\n",
       "      <td>wait</td>\n",
       "    </tr>\n",
       "    <tr>\n",
       "      <th>2015-08-21 02:42:00</th>\n",
       "      <td>wait</td>\n",
       "      <td>wait</td>\n",
       "      <td>wait</td>\n",
       "    </tr>\n",
       "    <tr>\n",
       "      <th>2015-08-21 02:48:00</th>\n",
       "      <td>wait</td>\n",
       "      <td>wait</td>\n",
       "      <td>wait</td>\n",
       "    </tr>\n",
       "    <tr>\n",
       "      <th>2015-08-21 02:54:00</th>\n",
       "      <td>wait</td>\n",
       "      <td>wait</td>\n",
       "      <td>wait</td>\n",
       "    </tr>\n",
       "    <tr>\n",
       "      <th>...</th>\n",
       "      <td>...</td>\n",
       "      <td>...</td>\n",
       "      <td>...</td>\n",
       "    </tr>\n",
       "    <tr>\n",
       "      <th>2016-08-20 20:00:00</th>\n",
       "      <td>wait</td>\n",
       "      <td>wait</td>\n",
       "      <td>wait</td>\n",
       "    </tr>\n",
       "    <tr>\n",
       "      <th>2016-08-20 20:06:00</th>\n",
       "      <td>wait</td>\n",
       "      <td>wait</td>\n",
       "      <td>wait</td>\n",
       "    </tr>\n",
       "    <tr>\n",
       "      <th>2016-08-20 20:12:00</th>\n",
       "      <td>wait</td>\n",
       "      <td>wait</td>\n",
       "      <td>wait</td>\n",
       "    </tr>\n",
       "    <tr>\n",
       "      <th>2016-08-20 20:18:00</th>\n",
       "      <td>wait</td>\n",
       "      <td>wait</td>\n",
       "      <td>wait</td>\n",
       "    </tr>\n",
       "    <tr>\n",
       "      <th>2016-08-20 20:24:00</th>\n",
       "      <td>wait</td>\n",
       "      <td>wait</td>\n",
       "      <td>wait</td>\n",
       "    </tr>\n",
       "    <tr>\n",
       "      <th>2016-08-20 20:30:00</th>\n",
       "      <td>wait</td>\n",
       "      <td>wait</td>\n",
       "      <td>wait</td>\n",
       "    </tr>\n",
       "    <tr>\n",
       "      <th>2016-08-20 20:36:00</th>\n",
       "      <td>wait</td>\n",
       "      <td>wait</td>\n",
       "      <td>wait</td>\n",
       "    </tr>\n",
       "    <tr>\n",
       "      <th>2016-08-20 20:42:00</th>\n",
       "      <td>wait</td>\n",
       "      <td>wait</td>\n",
       "      <td>wait</td>\n",
       "    </tr>\n",
       "    <tr>\n",
       "      <th>2016-08-20 20:48:00</th>\n",
       "      <td>wait</td>\n",
       "      <td>wait</td>\n",
       "      <td>wait</td>\n",
       "    </tr>\n",
       "    <tr>\n",
       "      <th>2016-08-20 20:54:00</th>\n",
       "      <td>wait</td>\n",
       "      <td>wait</td>\n",
       "      <td>wait</td>\n",
       "    </tr>\n",
       "    <tr>\n",
       "      <th>2016-08-20 21:00:00</th>\n",
       "      <td>wait</td>\n",
       "      <td>wait</td>\n",
       "      <td>wait</td>\n",
       "    </tr>\n",
       "    <tr>\n",
       "      <th>2016-08-20 21:06:00</th>\n",
       "      <td>wait</td>\n",
       "      <td>wait</td>\n",
       "      <td>wait</td>\n",
       "    </tr>\n",
       "    <tr>\n",
       "      <th>2016-08-20 21:12:00</th>\n",
       "      <td>wait</td>\n",
       "      <td>wait</td>\n",
       "      <td>wait</td>\n",
       "    </tr>\n",
       "    <tr>\n",
       "      <th>2016-08-20 21:18:00</th>\n",
       "      <td>wait</td>\n",
       "      <td>wait</td>\n",
       "      <td>wait</td>\n",
       "    </tr>\n",
       "    <tr>\n",
       "      <th>2016-08-20 21:24:00</th>\n",
       "      <td>wait</td>\n",
       "      <td>wait</td>\n",
       "      <td>wait</td>\n",
       "    </tr>\n",
       "    <tr>\n",
       "      <th>2016-08-20 21:30:00</th>\n",
       "      <td>wait</td>\n",
       "      <td>wait</td>\n",
       "      <td>wait</td>\n",
       "    </tr>\n",
       "    <tr>\n",
       "      <th>2016-08-20 21:36:00</th>\n",
       "      <td>wait</td>\n",
       "      <td>wait</td>\n",
       "      <td>wait</td>\n",
       "    </tr>\n",
       "    <tr>\n",
       "      <th>2016-08-20 21:42:00</th>\n",
       "      <td>wait</td>\n",
       "      <td>wait</td>\n",
       "      <td>wait</td>\n",
       "    </tr>\n",
       "    <tr>\n",
       "      <th>2016-08-20 21:48:00</th>\n",
       "      <td>wait</td>\n",
       "      <td>wait</td>\n",
       "      <td>wait</td>\n",
       "    </tr>\n",
       "    <tr>\n",
       "      <th>2016-08-20 21:54:00</th>\n",
       "      <td>wait</td>\n",
       "      <td>wait</td>\n",
       "      <td>wait</td>\n",
       "    </tr>\n",
       "    <tr>\n",
       "      <th>2016-08-20 22:00:00</th>\n",
       "      <td>wait</td>\n",
       "      <td>wait</td>\n",
       "      <td>wait</td>\n",
       "    </tr>\n",
       "    <tr>\n",
       "      <th>2016-08-20 22:06:00</th>\n",
       "      <td>wait</td>\n",
       "      <td>wait</td>\n",
       "      <td>wait</td>\n",
       "    </tr>\n",
       "    <tr>\n",
       "      <th>2016-08-20 22:12:00</th>\n",
       "      <td>wait</td>\n",
       "      <td>wait</td>\n",
       "      <td>wait</td>\n",
       "    </tr>\n",
       "    <tr>\n",
       "      <th>2016-08-20 22:18:00</th>\n",
       "      <td>wait</td>\n",
       "      <td>wait</td>\n",
       "      <td>wait</td>\n",
       "    </tr>\n",
       "    <tr>\n",
       "      <th>2016-08-20 22:24:00</th>\n",
       "      <td>wait</td>\n",
       "      <td>wait</td>\n",
       "      <td>wait</td>\n",
       "    </tr>\n",
       "    <tr>\n",
       "      <th>2016-08-20 22:30:00</th>\n",
       "      <td>wait</td>\n",
       "      <td>wait</td>\n",
       "      <td>wait</td>\n",
       "    </tr>\n",
       "    <tr>\n",
       "      <th>2016-08-20 22:36:00</th>\n",
       "      <td>wait</td>\n",
       "      <td>wait</td>\n",
       "      <td>wait</td>\n",
       "    </tr>\n",
       "    <tr>\n",
       "      <th>2016-08-20 22:42:00</th>\n",
       "      <td>wait</td>\n",
       "      <td>wait</td>\n",
       "      <td>wait</td>\n",
       "    </tr>\n",
       "    <tr>\n",
       "      <th>2016-08-20 22:48:00</th>\n",
       "      <td>wait</td>\n",
       "      <td>wait</td>\n",
       "      <td>wait</td>\n",
       "    </tr>\n",
       "    <tr>\n",
       "      <th>2016-08-20 22:54:00</th>\n",
       "      <td>wait</td>\n",
       "      <td>wait</td>\n",
       "      <td>wait</td>\n",
       "    </tr>\n",
       "  </tbody>\n",
       "</table>\n",
       "<p>87830 rows × 3 columns</p>\n",
       "</div>"
      ],
      "text/plain": [
       "                    go_stay next_status start_stop\n",
       "2015-08-21 00:00:00    wait        wait       wait\n",
       "2015-08-21 00:06:00    wait        wait       wait\n",
       "2015-08-21 00:12:00    wait        wait       wait\n",
       "2015-08-21 00:18:00    wait        wait       wait\n",
       "2015-08-21 00:24:00    wait        wait       wait\n",
       "2015-08-21 00:30:00    wait        wait       wait\n",
       "2015-08-21 00:36:00    wait        wait       wait\n",
       "2015-08-21 00:42:00    wait        wait       wait\n",
       "2015-08-21 00:48:00    wait        wait       wait\n",
       "2015-08-21 00:54:00    wait        wait       wait\n",
       "2015-08-21 01:00:00    wait        wait       wait\n",
       "2015-08-21 01:06:00    wait        wait       wait\n",
       "2015-08-21 01:12:00    wait        wait       wait\n",
       "2015-08-21 01:18:00    wait        wait       wait\n",
       "2015-08-21 01:24:00    wait        wait       wait\n",
       "2015-08-21 01:30:00    wait        wait       wait\n",
       "2015-08-21 01:36:00    wait        wait       wait\n",
       "2015-08-21 01:42:00    wait        wait       wait\n",
       "2015-08-21 01:48:00    wait        wait       wait\n",
       "2015-08-21 01:54:00    wait        wait       wait\n",
       "2015-08-21 02:00:00    wait        wait       wait\n",
       "2015-08-21 02:06:00    wait        wait       wait\n",
       "2015-08-21 02:12:00    wait        wait       wait\n",
       "2015-08-21 02:18:00    wait        wait       wait\n",
       "2015-08-21 02:24:00    wait        wait       wait\n",
       "2015-08-21 02:30:00    wait        wait       wait\n",
       "2015-08-21 02:36:00    wait        wait       wait\n",
       "2015-08-21 02:42:00    wait        wait       wait\n",
       "2015-08-21 02:48:00    wait        wait       wait\n",
       "2015-08-21 02:54:00    wait        wait       wait\n",
       "...                     ...         ...        ...\n",
       "2016-08-20 20:00:00    wait        wait       wait\n",
       "2016-08-20 20:06:00    wait        wait       wait\n",
       "2016-08-20 20:12:00    wait        wait       wait\n",
       "2016-08-20 20:18:00    wait        wait       wait\n",
       "2016-08-20 20:24:00    wait        wait       wait\n",
       "2016-08-20 20:30:00    wait        wait       wait\n",
       "2016-08-20 20:36:00    wait        wait       wait\n",
       "2016-08-20 20:42:00    wait        wait       wait\n",
       "2016-08-20 20:48:00    wait        wait       wait\n",
       "2016-08-20 20:54:00    wait        wait       wait\n",
       "2016-08-20 21:00:00    wait        wait       wait\n",
       "2016-08-20 21:06:00    wait        wait       wait\n",
       "2016-08-20 21:12:00    wait        wait       wait\n",
       "2016-08-20 21:18:00    wait        wait       wait\n",
       "2016-08-20 21:24:00    wait        wait       wait\n",
       "2016-08-20 21:30:00    wait        wait       wait\n",
       "2016-08-20 21:36:00    wait        wait       wait\n",
       "2016-08-20 21:42:00    wait        wait       wait\n",
       "2016-08-20 21:48:00    wait        wait       wait\n",
       "2016-08-20 21:54:00    wait        wait       wait\n",
       "2016-08-20 22:00:00    wait        wait       wait\n",
       "2016-08-20 22:06:00    wait        wait       wait\n",
       "2016-08-20 22:12:00    wait        wait       wait\n",
       "2016-08-20 22:18:00    wait        wait       wait\n",
       "2016-08-20 22:24:00    wait        wait       wait\n",
       "2016-08-20 22:30:00    wait        wait       wait\n",
       "2016-08-20 22:36:00    wait        wait       wait\n",
       "2016-08-20 22:42:00    wait        wait       wait\n",
       "2016-08-20 22:48:00    wait        wait       wait\n",
       "2016-08-20 22:54:00    wait        wait       wait\n",
       "\n",
       "[87830 rows x 3 columns]"
      ]
     },
     "execution_count": 42,
     "metadata": {},
     "output_type": "execute_result"
    }
   ],
   "source": [
    "df_sixmin[['go_stay','next_status','start_stop']]"
   ]
  },
  {
   "cell_type": "markdown",
   "metadata": {},
   "source": [
    "### Add walk completion ###\n",
    "\n",
    "The earliest start and latest start are just that, the earliest and latest reccomended time for starting the hike where 1 hour of light and beach are most likely.  Following the latest start there should be 1 hour of walk time left.  I've decided to add this explicitly into the df."
   ]
  },
  {
   "cell_type": "code",
   "execution_count": 43,
   "metadata": {
    "collapsed": true
   },
   "outputs": [],
   "source": [
    "# create dt object shifted 1 hour back from dt index\n",
    "\n",
    "shift_neghour_ts = df_sixmin.index + pd.Timedelta('-1h')\n",
    "\n",
    "# shift_neghour_ts.isin(df_sixmin.index) is boolean to determine if shifted value exists in the dt index\n",
    "# several rows on the head will have a shift_6min_ts that is not in the index\n",
    "\n",
    "# lambda function to determine if shifted_neghour_ts is in bounds or not\n",
    "\n",
    "df_sixmin['inbounds_neghour_ts'] = df_sixmin.apply(lambda x: shift_neghour_ts.isin(x.index)).Level"
   ]
  },
  {
   "cell_type": "code",
   "execution_count": 44,
   "metadata": {
    "collapsed": true
   },
   "outputs": [],
   "source": [
    "# accessing the index for axis = 1 lambda functions can be a challenge\n",
    "# this is being handled by creating a column that matches the dt object\n",
    "# index values.\n",
    "\n",
    "df_sixmin['temp_index'] = df_sixmin.index"
   ]
  },
  {
   "cell_type": "code",
   "execution_count": 45,
   "metadata": {
    "collapsed": true
   },
   "outputs": [],
   "source": [
    "def shift_ts_neghour(row,shift_string):\n",
    "    '''Functions accepts a boolean row from a PANDAS DF,\n",
    "    and a time shift string (i.e. '1h', '1m')\n",
    "    evaluates whether it is T or F and returns either\n",
    "    the dt object or the time shifted dt object\n",
    "    from a column represeting the dt index'''\n",
    "    \n",
    "    if row.inbounds_neghour_ts == True:\n",
    "        return row.temp_index + pd.Timedelta(shift_string)\n",
    "    else:\n",
    "        return row.temp_index"
   ]
  },
  {
   "cell_type": "code",
   "execution_count": 46,
   "metadata": {
    "collapsed": false
   },
   "outputs": [],
   "source": [
    "# lambda function to create a column with index dt + Timdedelta('-1h')\n",
    "\n",
    "df_sixmin['shift_neghour_ts'] = df_sixmin.apply(lambda x: shift_ts_neghour(x,'-1h'),axis=1)"
   ]
  },
  {
   "cell_type": "code",
   "execution_count": 47,
   "metadata": {
    "collapsed": true
   },
   "outputs": [],
   "source": [
    "# lambda function to create a column with the start_stop value 1 hour previous from the dt index\n",
    "\n",
    "df_sixmin['prev_status'] = df_sixmin[['start_stop','shift_neghour_ts']].apply(lambda x: df_sixmin.loc[x[1]],axis =1).start_stop"
   ]
  },
  {
   "cell_type": "code",
   "execution_count": 48,
   "metadata": {
    "collapsed": false
   },
   "outputs": [],
   "source": [
    "# function to add value of complete hike\n",
    "\n",
    "def complete_hike(row):\n",
    "    \n",
    "    '''Function excepts a PANDAS DF row and determines\n",
    "    the current condition of start_stop, compares it\n",
    "    to the condition 1 hour previous, and \n",
    "    returns either the current start_stop condition of \n",
    "    complete_hike'''\n",
    "    current_condition = row.start_stop\n",
    "    prev_condition = row.prev_status\n",
    "    \n",
    "    if prev_condition == \"latest_start\":\n",
    "        return \"complete_hike\"\n",
    "    else:\n",
    "        return current_condition"
   ]
  },
  {
   "cell_type": "code",
   "execution_count": 49,
   "metadata": {
    "collapsed": true
   },
   "outputs": [],
   "source": [
    "# lambda function to populate the a start_stop DF column with the results\n",
    "# of the start_stop function (returns wait/stay, stop, go, or start)\n",
    "\n",
    "df_sixmin['start_stop'] = df_sixmin.apply(lambda x: complete_hike(x), axis=1)"
   ]
  },
  {
   "cell_type": "markdown",
   "metadata": {},
   "source": [
    "### Debugging 2 ###"
   ]
  },
  {
   "cell_type": "code",
   "execution_count": 50,
   "metadata": {
    "collapsed": true
   },
   "outputs": [],
   "source": [
    "df_sixmin['Date'] = df_sixmin.index.date\n",
    "\n",
    "date_selector3 = df_sixmin.Date == pd.datetime(2015,8,23,0,0).date()\n",
    "date_selector4 = df_sixmin.Date == pd.datetime(2015,8,24,0,0).date()\n",
    "\n"
   ]
  },
  {
   "cell_type": "code",
   "execution_count": 51,
   "metadata": {
    "collapsed": false
   },
   "outputs": [
    {
     "data": {
      "text/html": [
       "<div>\n",
       "<table border=\"1\" class=\"dataframe\">\n",
       "  <thead>\n",
       "    <tr style=\"text-align: right;\">\n",
       "      <th></th>\n",
       "      <th>Level</th>\n",
       "      <th>Date</th>\n",
       "      <th>go_stay</th>\n",
       "      <th>next_status</th>\n",
       "      <th>start_stop</th>\n",
       "    </tr>\n",
       "  </thead>\n",
       "  <tbody>\n",
       "    <tr>\n",
       "      <th>2015-08-23 05:00:00</th>\n",
       "      <td>1.85</td>\n",
       "      <td>2015-08-23</td>\n",
       "      <td>wait</td>\n",
       "      <td>wait</td>\n",
       "      <td>wait</td>\n",
       "    </tr>\n",
       "    <tr>\n",
       "      <th>2015-08-23 05:06:00</th>\n",
       "      <td>1.77</td>\n",
       "      <td>2015-08-23</td>\n",
       "      <td>wait</td>\n",
       "      <td>wait</td>\n",
       "      <td>wait</td>\n",
       "    </tr>\n",
       "    <tr>\n",
       "      <th>2015-08-23 05:12:00</th>\n",
       "      <td>1.70</td>\n",
       "      <td>2015-08-23</td>\n",
       "      <td>wait</td>\n",
       "      <td>wait</td>\n",
       "      <td>wait</td>\n",
       "    </tr>\n",
       "    <tr>\n",
       "      <th>2015-08-23 05:18:00</th>\n",
       "      <td>1.65</td>\n",
       "      <td>2015-08-23</td>\n",
       "      <td>wait</td>\n",
       "      <td>wait</td>\n",
       "      <td>wait</td>\n",
       "    </tr>\n",
       "    <tr>\n",
       "      <th>2015-08-23 05:24:00</th>\n",
       "      <td>1.60</td>\n",
       "      <td>2015-08-23</td>\n",
       "      <td>wait</td>\n",
       "      <td>wait</td>\n",
       "      <td>wait</td>\n",
       "    </tr>\n",
       "    <tr>\n",
       "      <th>2015-08-23 05:30:00</th>\n",
       "      <td>1.56</td>\n",
       "      <td>2015-08-23</td>\n",
       "      <td>wait</td>\n",
       "      <td>wait</td>\n",
       "      <td>wait</td>\n",
       "    </tr>\n",
       "    <tr>\n",
       "      <th>2015-08-23 05:36:00</th>\n",
       "      <td>1.54</td>\n",
       "      <td>2015-08-23</td>\n",
       "      <td>wait</td>\n",
       "      <td>wait</td>\n",
       "      <td>wait</td>\n",
       "    </tr>\n",
       "    <tr>\n",
       "      <th>2015-08-23 05:42:00</th>\n",
       "      <td>1.52</td>\n",
       "      <td>2015-08-23</td>\n",
       "      <td>wait</td>\n",
       "      <td>walk</td>\n",
       "      <td>earliest_start</td>\n",
       "    </tr>\n",
       "    <tr>\n",
       "      <th>2015-08-23 05:48:00</th>\n",
       "      <td>1.51</td>\n",
       "      <td>2015-08-23</td>\n",
       "      <td>walk</td>\n",
       "      <td>wait</td>\n",
       "      <td>latest_start</td>\n",
       "    </tr>\n",
       "    <tr>\n",
       "      <th>2015-08-23 05:54:00</th>\n",
       "      <td>1.52</td>\n",
       "      <td>2015-08-23</td>\n",
       "      <td>wait</td>\n",
       "      <td>wait</td>\n",
       "      <td>wait</td>\n",
       "    </tr>\n",
       "    <tr>\n",
       "      <th>2015-08-23 06:00:00</th>\n",
       "      <td>1.53</td>\n",
       "      <td>2015-08-23</td>\n",
       "      <td>wait</td>\n",
       "      <td>wait</td>\n",
       "      <td>wait</td>\n",
       "    </tr>\n",
       "    <tr>\n",
       "      <th>2015-08-23 06:06:00</th>\n",
       "      <td>1.55</td>\n",
       "      <td>2015-08-23</td>\n",
       "      <td>wait</td>\n",
       "      <td>wait</td>\n",
       "      <td>wait</td>\n",
       "    </tr>\n",
       "    <tr>\n",
       "      <th>2015-08-23 06:12:00</th>\n",
       "      <td>1.59</td>\n",
       "      <td>2015-08-23</td>\n",
       "      <td>wait</td>\n",
       "      <td>wait</td>\n",
       "      <td>wait</td>\n",
       "    </tr>\n",
       "    <tr>\n",
       "      <th>2015-08-23 06:18:00</th>\n",
       "      <td>1.63</td>\n",
       "      <td>2015-08-23</td>\n",
       "      <td>wait</td>\n",
       "      <td>wait</td>\n",
       "      <td>wait</td>\n",
       "    </tr>\n",
       "    <tr>\n",
       "      <th>2015-08-23 06:24:00</th>\n",
       "      <td>1.68</td>\n",
       "      <td>2015-08-23</td>\n",
       "      <td>wait</td>\n",
       "      <td>wait</td>\n",
       "      <td>wait</td>\n",
       "    </tr>\n",
       "    <tr>\n",
       "      <th>2015-08-23 06:30:00</th>\n",
       "      <td>1.74</td>\n",
       "      <td>2015-08-23</td>\n",
       "      <td>wait</td>\n",
       "      <td>wait</td>\n",
       "      <td>wait</td>\n",
       "    </tr>\n",
       "    <tr>\n",
       "      <th>2015-08-23 06:36:00</th>\n",
       "      <td>1.81</td>\n",
       "      <td>2015-08-23</td>\n",
       "      <td>wait</td>\n",
       "      <td>wait</td>\n",
       "      <td>wait</td>\n",
       "    </tr>\n",
       "    <tr>\n",
       "      <th>2015-08-23 06:42:00</th>\n",
       "      <td>1.89</td>\n",
       "      <td>2015-08-23</td>\n",
       "      <td>wait</td>\n",
       "      <td>wait</td>\n",
       "      <td>wait</td>\n",
       "    </tr>\n",
       "    <tr>\n",
       "      <th>2015-08-23 06:48:00</th>\n",
       "      <td>1.97</td>\n",
       "      <td>2015-08-23</td>\n",
       "      <td>wait</td>\n",
       "      <td>wait</td>\n",
       "      <td>complete_hike</td>\n",
       "    </tr>\n",
       "    <tr>\n",
       "      <th>2015-08-23 06:54:00</th>\n",
       "      <td>2.06</td>\n",
       "      <td>2015-08-23</td>\n",
       "      <td>wait</td>\n",
       "      <td>wait</td>\n",
       "      <td>wait</td>\n",
       "    </tr>\n",
       "    <tr>\n",
       "      <th>2015-08-23 07:00:00</th>\n",
       "      <td>2.16</td>\n",
       "      <td>2015-08-23</td>\n",
       "      <td>wait</td>\n",
       "      <td>wait</td>\n",
       "      <td>wait</td>\n",
       "    </tr>\n",
       "    <tr>\n",
       "      <th>2015-08-23 07:06:00</th>\n",
       "      <td>2.27</td>\n",
       "      <td>2015-08-23</td>\n",
       "      <td>wait</td>\n",
       "      <td>wait</td>\n",
       "      <td>wait</td>\n",
       "    </tr>\n",
       "    <tr>\n",
       "      <th>2015-08-23 07:12:00</th>\n",
       "      <td>2.38</td>\n",
       "      <td>2015-08-23</td>\n",
       "      <td>wait</td>\n",
       "      <td>wait</td>\n",
       "      <td>wait</td>\n",
       "    </tr>\n",
       "    <tr>\n",
       "      <th>2015-08-23 07:18:00</th>\n",
       "      <td>2.49</td>\n",
       "      <td>2015-08-23</td>\n",
       "      <td>wait</td>\n",
       "      <td>wait</td>\n",
       "      <td>wait</td>\n",
       "    </tr>\n",
       "    <tr>\n",
       "      <th>2015-08-23 07:24:00</th>\n",
       "      <td>2.62</td>\n",
       "      <td>2015-08-23</td>\n",
       "      <td>wait</td>\n",
       "      <td>wait</td>\n",
       "      <td>wait</td>\n",
       "    </tr>\n",
       "    <tr>\n",
       "      <th>2015-08-23 07:30:00</th>\n",
       "      <td>2.74</td>\n",
       "      <td>2015-08-23</td>\n",
       "      <td>wait</td>\n",
       "      <td>wait</td>\n",
       "      <td>wait</td>\n",
       "    </tr>\n",
       "    <tr>\n",
       "      <th>2015-08-23 07:36:00</th>\n",
       "      <td>2.88</td>\n",
       "      <td>2015-08-23</td>\n",
       "      <td>wait</td>\n",
       "      <td>wait</td>\n",
       "      <td>wait</td>\n",
       "    </tr>\n",
       "    <tr>\n",
       "      <th>2015-08-23 07:42:00</th>\n",
       "      <td>3.01</td>\n",
       "      <td>2015-08-23</td>\n",
       "      <td>wait</td>\n",
       "      <td>wait</td>\n",
       "      <td>wait</td>\n",
       "    </tr>\n",
       "    <tr>\n",
       "      <th>2015-08-23 07:48:00</th>\n",
       "      <td>3.15</td>\n",
       "      <td>2015-08-23</td>\n",
       "      <td>wait</td>\n",
       "      <td>wait</td>\n",
       "      <td>wait</td>\n",
       "    </tr>\n",
       "    <tr>\n",
       "      <th>2015-08-23 07:54:00</th>\n",
       "      <td>3.30</td>\n",
       "      <td>2015-08-23</td>\n",
       "      <td>wait</td>\n",
       "      <td>wait</td>\n",
       "      <td>wait</td>\n",
       "    </tr>\n",
       "  </tbody>\n",
       "</table>\n",
       "</div>"
      ],
      "text/plain": [
       "                     Level        Date go_stay next_status      start_stop\n",
       "2015-08-23 05:00:00   1.85  2015-08-23    wait        wait            wait\n",
       "2015-08-23 05:06:00   1.77  2015-08-23    wait        wait            wait\n",
       "2015-08-23 05:12:00   1.70  2015-08-23    wait        wait            wait\n",
       "2015-08-23 05:18:00   1.65  2015-08-23    wait        wait            wait\n",
       "2015-08-23 05:24:00   1.60  2015-08-23    wait        wait            wait\n",
       "2015-08-23 05:30:00   1.56  2015-08-23    wait        wait            wait\n",
       "2015-08-23 05:36:00   1.54  2015-08-23    wait        wait            wait\n",
       "2015-08-23 05:42:00   1.52  2015-08-23    wait        walk  earliest_start\n",
       "2015-08-23 05:48:00   1.51  2015-08-23    walk        wait    latest_start\n",
       "2015-08-23 05:54:00   1.52  2015-08-23    wait        wait            wait\n",
       "2015-08-23 06:00:00   1.53  2015-08-23    wait        wait            wait\n",
       "2015-08-23 06:06:00   1.55  2015-08-23    wait        wait            wait\n",
       "2015-08-23 06:12:00   1.59  2015-08-23    wait        wait            wait\n",
       "2015-08-23 06:18:00   1.63  2015-08-23    wait        wait            wait\n",
       "2015-08-23 06:24:00   1.68  2015-08-23    wait        wait            wait\n",
       "2015-08-23 06:30:00   1.74  2015-08-23    wait        wait            wait\n",
       "2015-08-23 06:36:00   1.81  2015-08-23    wait        wait            wait\n",
       "2015-08-23 06:42:00   1.89  2015-08-23    wait        wait            wait\n",
       "2015-08-23 06:48:00   1.97  2015-08-23    wait        wait   complete_hike\n",
       "2015-08-23 06:54:00   2.06  2015-08-23    wait        wait            wait\n",
       "2015-08-23 07:00:00   2.16  2015-08-23    wait        wait            wait\n",
       "2015-08-23 07:06:00   2.27  2015-08-23    wait        wait            wait\n",
       "2015-08-23 07:12:00   2.38  2015-08-23    wait        wait            wait\n",
       "2015-08-23 07:18:00   2.49  2015-08-23    wait        wait            wait\n",
       "2015-08-23 07:24:00   2.62  2015-08-23    wait        wait            wait\n",
       "2015-08-23 07:30:00   2.74  2015-08-23    wait        wait            wait\n",
       "2015-08-23 07:36:00   2.88  2015-08-23    wait        wait            wait\n",
       "2015-08-23 07:42:00   3.01  2015-08-23    wait        wait            wait\n",
       "2015-08-23 07:48:00   3.15  2015-08-23    wait        wait            wait\n",
       "2015-08-23 07:54:00   3.30  2015-08-23    wait        wait            wait"
      ]
     },
     "execution_count": 51,
     "metadata": {},
     "output_type": "execute_result"
    }
   ],
   "source": [
    "df_sixmin[['Level','Date','go_stay','next_status','start_stop']][date_selector3][50:80]"
   ]
  },
  {
   "cell_type": "raw",
   "metadata": {},
   "source": [
    "So this is working correcty for 23 August 2015, there is a 6 minute window in which you can start the hike.  I need to rethink the naming of wait, walk, start, stop.  Wait, walk, and start make sense, but not stop.  If you started within the 6 minute window you would be walking when the data indicates stop.  It doesn't mean stop, it just means the window to start the hike has ended.  Rename stop to something else."
   ]
  },
  {
   "cell_type": "code",
   "execution_count": 52,
   "metadata": {
    "collapsed": false,
    "scrolled": true
   },
   "outputs": [
    {
     "data": {
      "text/html": [
       "<div>\n",
       "<table border=\"1\" class=\"dataframe\">\n",
       "  <thead>\n",
       "    <tr style=\"text-align: right;\">\n",
       "      <th></th>\n",
       "      <th>Level</th>\n",
       "      <th>Date</th>\n",
       "      <th>go_stay</th>\n",
       "      <th>next_status</th>\n",
       "      <th>start_stop</th>\n",
       "    </tr>\n",
       "  </thead>\n",
       "  <tbody>\n",
       "    <tr>\n",
       "      <th>2015-08-23 05:00:00</th>\n",
       "      <td>1.85</td>\n",
       "      <td>2015-08-23</td>\n",
       "      <td>wait</td>\n",
       "      <td>wait</td>\n",
       "      <td>wait</td>\n",
       "    </tr>\n",
       "    <tr>\n",
       "      <th>2015-08-23 05:06:00</th>\n",
       "      <td>1.77</td>\n",
       "      <td>2015-08-23</td>\n",
       "      <td>wait</td>\n",
       "      <td>wait</td>\n",
       "      <td>wait</td>\n",
       "    </tr>\n",
       "    <tr>\n",
       "      <th>2015-08-23 05:12:00</th>\n",
       "      <td>1.70</td>\n",
       "      <td>2015-08-23</td>\n",
       "      <td>wait</td>\n",
       "      <td>wait</td>\n",
       "      <td>wait</td>\n",
       "    </tr>\n",
       "    <tr>\n",
       "      <th>2015-08-23 05:18:00</th>\n",
       "      <td>1.65</td>\n",
       "      <td>2015-08-23</td>\n",
       "      <td>wait</td>\n",
       "      <td>wait</td>\n",
       "      <td>wait</td>\n",
       "    </tr>\n",
       "    <tr>\n",
       "      <th>2015-08-23 05:24:00</th>\n",
       "      <td>1.60</td>\n",
       "      <td>2015-08-23</td>\n",
       "      <td>wait</td>\n",
       "      <td>wait</td>\n",
       "      <td>wait</td>\n",
       "    </tr>\n",
       "    <tr>\n",
       "      <th>2015-08-23 05:30:00</th>\n",
       "      <td>1.56</td>\n",
       "      <td>2015-08-23</td>\n",
       "      <td>wait</td>\n",
       "      <td>wait</td>\n",
       "      <td>wait</td>\n",
       "    </tr>\n",
       "    <tr>\n",
       "      <th>2015-08-23 05:36:00</th>\n",
       "      <td>1.54</td>\n",
       "      <td>2015-08-23</td>\n",
       "      <td>wait</td>\n",
       "      <td>wait</td>\n",
       "      <td>wait</td>\n",
       "    </tr>\n",
       "    <tr>\n",
       "      <th>2015-08-23 05:42:00</th>\n",
       "      <td>1.52</td>\n",
       "      <td>2015-08-23</td>\n",
       "      <td>wait</td>\n",
       "      <td>walk</td>\n",
       "      <td>earliest_start</td>\n",
       "    </tr>\n",
       "    <tr>\n",
       "      <th>2015-08-23 05:48:00</th>\n",
       "      <td>1.51</td>\n",
       "      <td>2015-08-23</td>\n",
       "      <td>walk</td>\n",
       "      <td>wait</td>\n",
       "      <td>latest_start</td>\n",
       "    </tr>\n",
       "    <tr>\n",
       "      <th>2015-08-23 05:54:00</th>\n",
       "      <td>1.52</td>\n",
       "      <td>2015-08-23</td>\n",
       "      <td>wait</td>\n",
       "      <td>wait</td>\n",
       "      <td>wait</td>\n",
       "    </tr>\n",
       "    <tr>\n",
       "      <th>2015-08-23 06:00:00</th>\n",
       "      <td>1.53</td>\n",
       "      <td>2015-08-23</td>\n",
       "      <td>wait</td>\n",
       "      <td>wait</td>\n",
       "      <td>wait</td>\n",
       "    </tr>\n",
       "    <tr>\n",
       "      <th>2015-08-23 06:06:00</th>\n",
       "      <td>1.55</td>\n",
       "      <td>2015-08-23</td>\n",
       "      <td>wait</td>\n",
       "      <td>wait</td>\n",
       "      <td>wait</td>\n",
       "    </tr>\n",
       "    <tr>\n",
       "      <th>2015-08-23 06:12:00</th>\n",
       "      <td>1.59</td>\n",
       "      <td>2015-08-23</td>\n",
       "      <td>wait</td>\n",
       "      <td>wait</td>\n",
       "      <td>wait</td>\n",
       "    </tr>\n",
       "    <tr>\n",
       "      <th>2015-08-23 06:18:00</th>\n",
       "      <td>1.63</td>\n",
       "      <td>2015-08-23</td>\n",
       "      <td>wait</td>\n",
       "      <td>wait</td>\n",
       "      <td>wait</td>\n",
       "    </tr>\n",
       "    <tr>\n",
       "      <th>2015-08-23 06:24:00</th>\n",
       "      <td>1.68</td>\n",
       "      <td>2015-08-23</td>\n",
       "      <td>wait</td>\n",
       "      <td>wait</td>\n",
       "      <td>wait</td>\n",
       "    </tr>\n",
       "    <tr>\n",
       "      <th>2015-08-23 06:30:00</th>\n",
       "      <td>1.74</td>\n",
       "      <td>2015-08-23</td>\n",
       "      <td>wait</td>\n",
       "      <td>wait</td>\n",
       "      <td>wait</td>\n",
       "    </tr>\n",
       "    <tr>\n",
       "      <th>2015-08-23 06:36:00</th>\n",
       "      <td>1.81</td>\n",
       "      <td>2015-08-23</td>\n",
       "      <td>wait</td>\n",
       "      <td>wait</td>\n",
       "      <td>wait</td>\n",
       "    </tr>\n",
       "    <tr>\n",
       "      <th>2015-08-23 06:42:00</th>\n",
       "      <td>1.89</td>\n",
       "      <td>2015-08-23</td>\n",
       "      <td>wait</td>\n",
       "      <td>wait</td>\n",
       "      <td>wait</td>\n",
       "    </tr>\n",
       "    <tr>\n",
       "      <th>2015-08-23 06:48:00</th>\n",
       "      <td>1.97</td>\n",
       "      <td>2015-08-23</td>\n",
       "      <td>wait</td>\n",
       "      <td>wait</td>\n",
       "      <td>complete_hike</td>\n",
       "    </tr>\n",
       "    <tr>\n",
       "      <th>2015-08-23 06:54:00</th>\n",
       "      <td>2.06</td>\n",
       "      <td>2015-08-23</td>\n",
       "      <td>wait</td>\n",
       "      <td>wait</td>\n",
       "      <td>wait</td>\n",
       "    </tr>\n",
       "    <tr>\n",
       "      <th>2015-08-23 07:00:00</th>\n",
       "      <td>2.16</td>\n",
       "      <td>2015-08-23</td>\n",
       "      <td>wait</td>\n",
       "      <td>wait</td>\n",
       "      <td>wait</td>\n",
       "    </tr>\n",
       "    <tr>\n",
       "      <th>2015-08-23 07:06:00</th>\n",
       "      <td>2.27</td>\n",
       "      <td>2015-08-23</td>\n",
       "      <td>wait</td>\n",
       "      <td>wait</td>\n",
       "      <td>wait</td>\n",
       "    </tr>\n",
       "    <tr>\n",
       "      <th>2015-08-23 07:12:00</th>\n",
       "      <td>2.38</td>\n",
       "      <td>2015-08-23</td>\n",
       "      <td>wait</td>\n",
       "      <td>wait</td>\n",
       "      <td>wait</td>\n",
       "    </tr>\n",
       "    <tr>\n",
       "      <th>2015-08-23 07:18:00</th>\n",
       "      <td>2.49</td>\n",
       "      <td>2015-08-23</td>\n",
       "      <td>wait</td>\n",
       "      <td>wait</td>\n",
       "      <td>wait</td>\n",
       "    </tr>\n",
       "    <tr>\n",
       "      <th>2015-08-23 07:24:00</th>\n",
       "      <td>2.62</td>\n",
       "      <td>2015-08-23</td>\n",
       "      <td>wait</td>\n",
       "      <td>wait</td>\n",
       "      <td>wait</td>\n",
       "    </tr>\n",
       "    <tr>\n",
       "      <th>2015-08-23 07:30:00</th>\n",
       "      <td>2.74</td>\n",
       "      <td>2015-08-23</td>\n",
       "      <td>wait</td>\n",
       "      <td>wait</td>\n",
       "      <td>wait</td>\n",
       "    </tr>\n",
       "    <tr>\n",
       "      <th>2015-08-23 07:36:00</th>\n",
       "      <td>2.88</td>\n",
       "      <td>2015-08-23</td>\n",
       "      <td>wait</td>\n",
       "      <td>wait</td>\n",
       "      <td>wait</td>\n",
       "    </tr>\n",
       "    <tr>\n",
       "      <th>2015-08-23 07:42:00</th>\n",
       "      <td>3.01</td>\n",
       "      <td>2015-08-23</td>\n",
       "      <td>wait</td>\n",
       "      <td>wait</td>\n",
       "      <td>wait</td>\n",
       "    </tr>\n",
       "    <tr>\n",
       "      <th>2015-08-23 07:48:00</th>\n",
       "      <td>3.15</td>\n",
       "      <td>2015-08-23</td>\n",
       "      <td>wait</td>\n",
       "      <td>wait</td>\n",
       "      <td>wait</td>\n",
       "    </tr>\n",
       "    <tr>\n",
       "      <th>2015-08-23 07:54:00</th>\n",
       "      <td>3.30</td>\n",
       "      <td>2015-08-23</td>\n",
       "      <td>wait</td>\n",
       "      <td>wait</td>\n",
       "      <td>wait</td>\n",
       "    </tr>\n",
       "  </tbody>\n",
       "</table>\n",
       "</div>"
      ],
      "text/plain": [
       "                     Level        Date go_stay next_status      start_stop\n",
       "2015-08-23 05:00:00   1.85  2015-08-23    wait        wait            wait\n",
       "2015-08-23 05:06:00   1.77  2015-08-23    wait        wait            wait\n",
       "2015-08-23 05:12:00   1.70  2015-08-23    wait        wait            wait\n",
       "2015-08-23 05:18:00   1.65  2015-08-23    wait        wait            wait\n",
       "2015-08-23 05:24:00   1.60  2015-08-23    wait        wait            wait\n",
       "2015-08-23 05:30:00   1.56  2015-08-23    wait        wait            wait\n",
       "2015-08-23 05:36:00   1.54  2015-08-23    wait        wait            wait\n",
       "2015-08-23 05:42:00   1.52  2015-08-23    wait        walk  earliest_start\n",
       "2015-08-23 05:48:00   1.51  2015-08-23    walk        wait    latest_start\n",
       "2015-08-23 05:54:00   1.52  2015-08-23    wait        wait            wait\n",
       "2015-08-23 06:00:00   1.53  2015-08-23    wait        wait            wait\n",
       "2015-08-23 06:06:00   1.55  2015-08-23    wait        wait            wait\n",
       "2015-08-23 06:12:00   1.59  2015-08-23    wait        wait            wait\n",
       "2015-08-23 06:18:00   1.63  2015-08-23    wait        wait            wait\n",
       "2015-08-23 06:24:00   1.68  2015-08-23    wait        wait            wait\n",
       "2015-08-23 06:30:00   1.74  2015-08-23    wait        wait            wait\n",
       "2015-08-23 06:36:00   1.81  2015-08-23    wait        wait            wait\n",
       "2015-08-23 06:42:00   1.89  2015-08-23    wait        wait            wait\n",
       "2015-08-23 06:48:00   1.97  2015-08-23    wait        wait   complete_hike\n",
       "2015-08-23 06:54:00   2.06  2015-08-23    wait        wait            wait\n",
       "2015-08-23 07:00:00   2.16  2015-08-23    wait        wait            wait\n",
       "2015-08-23 07:06:00   2.27  2015-08-23    wait        wait            wait\n",
       "2015-08-23 07:12:00   2.38  2015-08-23    wait        wait            wait\n",
       "2015-08-23 07:18:00   2.49  2015-08-23    wait        wait            wait\n",
       "2015-08-23 07:24:00   2.62  2015-08-23    wait        wait            wait\n",
       "2015-08-23 07:30:00   2.74  2015-08-23    wait        wait            wait\n",
       "2015-08-23 07:36:00   2.88  2015-08-23    wait        wait            wait\n",
       "2015-08-23 07:42:00   3.01  2015-08-23    wait        wait            wait\n",
       "2015-08-23 07:48:00   3.15  2015-08-23    wait        wait            wait\n",
       "2015-08-23 07:54:00   3.30  2015-08-23    wait        wait            wait"
      ]
     },
     "execution_count": 52,
     "metadata": {},
     "output_type": "execute_result"
    }
   ],
   "source": [
    "df_sixmin[['Level','Date','go_stay','next_status','start_stop']][date_selector3][50:80]"
   ]
  },
  {
   "cell_type": "code",
   "execution_count": 53,
   "metadata": {
    "collapsed": false
   },
   "outputs": [
    {
     "data": {
      "text/html": [
       "<div>\n",
       "<table border=\"1\" class=\"dataframe\">\n",
       "  <thead>\n",
       "    <tr style=\"text-align: right;\">\n",
       "      <th></th>\n",
       "      <th>Level</th>\n",
       "      <th>Date</th>\n",
       "      <th>go_stay</th>\n",
       "      <th>next_status</th>\n",
       "      <th>start_stop</th>\n",
       "    </tr>\n",
       "  </thead>\n",
       "  <tbody>\n",
       "    <tr>\n",
       "      <th>2015-08-24 05:00:00</th>\n",
       "      <td>2.63</td>\n",
       "      <td>2015-08-24</td>\n",
       "      <td>wait</td>\n",
       "      <td>wait</td>\n",
       "      <td>wait</td>\n",
       "    </tr>\n",
       "    <tr>\n",
       "      <th>2015-08-24 05:06:00</th>\n",
       "      <td>2.47</td>\n",
       "      <td>2015-08-24</td>\n",
       "      <td>wait</td>\n",
       "      <td>wait</td>\n",
       "      <td>wait</td>\n",
       "    </tr>\n",
       "    <tr>\n",
       "      <th>2015-08-24 05:12:00</th>\n",
       "      <td>2.31</td>\n",
       "      <td>2015-08-24</td>\n",
       "      <td>wait</td>\n",
       "      <td>wait</td>\n",
       "      <td>wait</td>\n",
       "    </tr>\n",
       "    <tr>\n",
       "      <th>2015-08-24 05:18:00</th>\n",
       "      <td>2.16</td>\n",
       "      <td>2015-08-24</td>\n",
       "      <td>wait</td>\n",
       "      <td>wait</td>\n",
       "      <td>wait</td>\n",
       "    </tr>\n",
       "    <tr>\n",
       "      <th>2015-08-24 05:24:00</th>\n",
       "      <td>2.02</td>\n",
       "      <td>2015-08-24</td>\n",
       "      <td>wait</td>\n",
       "      <td>wait</td>\n",
       "      <td>wait</td>\n",
       "    </tr>\n",
       "    <tr>\n",
       "      <th>2015-08-24 05:30:00</th>\n",
       "      <td>1.89</td>\n",
       "      <td>2015-08-24</td>\n",
       "      <td>wait</td>\n",
       "      <td>wait</td>\n",
       "      <td>wait</td>\n",
       "    </tr>\n",
       "    <tr>\n",
       "      <th>2015-08-24 05:36:00</th>\n",
       "      <td>1.76</td>\n",
       "      <td>2015-08-24</td>\n",
       "      <td>wait</td>\n",
       "      <td>wait</td>\n",
       "      <td>wait</td>\n",
       "    </tr>\n",
       "    <tr>\n",
       "      <th>2015-08-24 05:42:00</th>\n",
       "      <td>1.64</td>\n",
       "      <td>2015-08-24</td>\n",
       "      <td>wait</td>\n",
       "      <td>walk</td>\n",
       "      <td>earliest_start</td>\n",
       "    </tr>\n",
       "    <tr>\n",
       "      <th>2015-08-24 05:48:00</th>\n",
       "      <td>1.54</td>\n",
       "      <td>2015-08-24</td>\n",
       "      <td>walk</td>\n",
       "      <td>walk</td>\n",
       "      <td>walk</td>\n",
       "    </tr>\n",
       "    <tr>\n",
       "      <th>2015-08-24 05:54:00</th>\n",
       "      <td>1.44</td>\n",
       "      <td>2015-08-24</td>\n",
       "      <td>walk</td>\n",
       "      <td>walk</td>\n",
       "      <td>walk</td>\n",
       "    </tr>\n",
       "    <tr>\n",
       "      <th>2015-08-24 06:00:00</th>\n",
       "      <td>1.35</td>\n",
       "      <td>2015-08-24</td>\n",
       "      <td>walk</td>\n",
       "      <td>walk</td>\n",
       "      <td>walk</td>\n",
       "    </tr>\n",
       "    <tr>\n",
       "      <th>2015-08-24 06:06:00</th>\n",
       "      <td>1.27</td>\n",
       "      <td>2015-08-24</td>\n",
       "      <td>walk</td>\n",
       "      <td>walk</td>\n",
       "      <td>walk</td>\n",
       "    </tr>\n",
       "    <tr>\n",
       "      <th>2015-08-24 06:12:00</th>\n",
       "      <td>1.20</td>\n",
       "      <td>2015-08-24</td>\n",
       "      <td>walk</td>\n",
       "      <td>walk</td>\n",
       "      <td>walk</td>\n",
       "    </tr>\n",
       "    <tr>\n",
       "      <th>2015-08-24 06:18:00</th>\n",
       "      <td>1.14</td>\n",
       "      <td>2015-08-24</td>\n",
       "      <td>walk</td>\n",
       "      <td>walk</td>\n",
       "      <td>walk</td>\n",
       "    </tr>\n",
       "    <tr>\n",
       "      <th>2015-08-24 06:24:00</th>\n",
       "      <td>1.10</td>\n",
       "      <td>2015-08-24</td>\n",
       "      <td>walk</td>\n",
       "      <td>walk</td>\n",
       "      <td>walk</td>\n",
       "    </tr>\n",
       "    <tr>\n",
       "      <th>2015-08-24 06:30:00</th>\n",
       "      <td>1.06</td>\n",
       "      <td>2015-08-24</td>\n",
       "      <td>walk</td>\n",
       "      <td>walk</td>\n",
       "      <td>walk</td>\n",
       "    </tr>\n",
       "    <tr>\n",
       "      <th>2015-08-24 06:36:00</th>\n",
       "      <td>1.03</td>\n",
       "      <td>2015-08-24</td>\n",
       "      <td>walk</td>\n",
       "      <td>walk</td>\n",
       "      <td>walk</td>\n",
       "    </tr>\n",
       "    <tr>\n",
       "      <th>2015-08-24 06:42:00</th>\n",
       "      <td>1.01</td>\n",
       "      <td>2015-08-24</td>\n",
       "      <td>walk</td>\n",
       "      <td>walk</td>\n",
       "      <td>walk</td>\n",
       "    </tr>\n",
       "    <tr>\n",
       "      <th>2015-08-24 06:48:00</th>\n",
       "      <td>1.01</td>\n",
       "      <td>2015-08-24</td>\n",
       "      <td>walk</td>\n",
       "      <td>walk</td>\n",
       "      <td>walk</td>\n",
       "    </tr>\n",
       "    <tr>\n",
       "      <th>2015-08-24 06:54:00</th>\n",
       "      <td>1.01</td>\n",
       "      <td>2015-08-24</td>\n",
       "      <td>walk</td>\n",
       "      <td>walk</td>\n",
       "      <td>walk</td>\n",
       "    </tr>\n",
       "    <tr>\n",
       "      <th>2015-08-24 07:00:00</th>\n",
       "      <td>1.03</td>\n",
       "      <td>2015-08-24</td>\n",
       "      <td>walk</td>\n",
       "      <td>walk</td>\n",
       "      <td>walk</td>\n",
       "    </tr>\n",
       "    <tr>\n",
       "      <th>2015-08-24 07:06:00</th>\n",
       "      <td>1.05</td>\n",
       "      <td>2015-08-24</td>\n",
       "      <td>walk</td>\n",
       "      <td>walk</td>\n",
       "      <td>walk</td>\n",
       "    </tr>\n",
       "    <tr>\n",
       "      <th>2015-08-24 07:12:00</th>\n",
       "      <td>1.09</td>\n",
       "      <td>2015-08-24</td>\n",
       "      <td>walk</td>\n",
       "      <td>wait</td>\n",
       "      <td>latest_start</td>\n",
       "    </tr>\n",
       "    <tr>\n",
       "      <th>2015-08-24 07:18:00</th>\n",
       "      <td>1.13</td>\n",
       "      <td>2015-08-24</td>\n",
       "      <td>wait</td>\n",
       "      <td>wait</td>\n",
       "      <td>wait</td>\n",
       "    </tr>\n",
       "    <tr>\n",
       "      <th>2015-08-24 07:24:00</th>\n",
       "      <td>1.18</td>\n",
       "      <td>2015-08-24</td>\n",
       "      <td>wait</td>\n",
       "      <td>wait</td>\n",
       "      <td>wait</td>\n",
       "    </tr>\n",
       "    <tr>\n",
       "      <th>2015-08-24 07:30:00</th>\n",
       "      <td>1.25</td>\n",
       "      <td>2015-08-24</td>\n",
       "      <td>wait</td>\n",
       "      <td>wait</td>\n",
       "      <td>wait</td>\n",
       "    </tr>\n",
       "    <tr>\n",
       "      <th>2015-08-24 07:36:00</th>\n",
       "      <td>1.32</td>\n",
       "      <td>2015-08-24</td>\n",
       "      <td>wait</td>\n",
       "      <td>wait</td>\n",
       "      <td>wait</td>\n",
       "    </tr>\n",
       "    <tr>\n",
       "      <th>2015-08-24 07:42:00</th>\n",
       "      <td>1.40</td>\n",
       "      <td>2015-08-24</td>\n",
       "      <td>wait</td>\n",
       "      <td>wait</td>\n",
       "      <td>wait</td>\n",
       "    </tr>\n",
       "    <tr>\n",
       "      <th>2015-08-24 07:48:00</th>\n",
       "      <td>1.48</td>\n",
       "      <td>2015-08-24</td>\n",
       "      <td>wait</td>\n",
       "      <td>wait</td>\n",
       "      <td>wait</td>\n",
       "    </tr>\n",
       "    <tr>\n",
       "      <th>2015-08-24 07:54:00</th>\n",
       "      <td>1.58</td>\n",
       "      <td>2015-08-24</td>\n",
       "      <td>wait</td>\n",
       "      <td>wait</td>\n",
       "      <td>wait</td>\n",
       "    </tr>\n",
       "    <tr>\n",
       "      <th>2015-08-24 08:00:00</th>\n",
       "      <td>1.68</td>\n",
       "      <td>2015-08-24</td>\n",
       "      <td>wait</td>\n",
       "      <td>wait</td>\n",
       "      <td>wait</td>\n",
       "    </tr>\n",
       "    <tr>\n",
       "      <th>2015-08-24 08:06:00</th>\n",
       "      <td>1.79</td>\n",
       "      <td>2015-08-24</td>\n",
       "      <td>wait</td>\n",
       "      <td>wait</td>\n",
       "      <td>wait</td>\n",
       "    </tr>\n",
       "    <tr>\n",
       "      <th>2015-08-24 08:12:00</th>\n",
       "      <td>1.91</td>\n",
       "      <td>2015-08-24</td>\n",
       "      <td>wait</td>\n",
       "      <td>wait</td>\n",
       "      <td>complete_hike</td>\n",
       "    </tr>\n",
       "    <tr>\n",
       "      <th>2015-08-24 08:18:00</th>\n",
       "      <td>2.03</td>\n",
       "      <td>2015-08-24</td>\n",
       "      <td>wait</td>\n",
       "      <td>wait</td>\n",
       "      <td>wait</td>\n",
       "    </tr>\n",
       "    <tr>\n",
       "      <th>2015-08-24 08:24:00</th>\n",
       "      <td>2.16</td>\n",
       "      <td>2015-08-24</td>\n",
       "      <td>wait</td>\n",
       "      <td>wait</td>\n",
       "      <td>wait</td>\n",
       "    </tr>\n",
       "  </tbody>\n",
       "</table>\n",
       "</div>"
      ],
      "text/plain": [
       "                     Level        Date go_stay next_status      start_stop\n",
       "2015-08-24 05:00:00   2.63  2015-08-24    wait        wait            wait\n",
       "2015-08-24 05:06:00   2.47  2015-08-24    wait        wait            wait\n",
       "2015-08-24 05:12:00   2.31  2015-08-24    wait        wait            wait\n",
       "2015-08-24 05:18:00   2.16  2015-08-24    wait        wait            wait\n",
       "2015-08-24 05:24:00   2.02  2015-08-24    wait        wait            wait\n",
       "2015-08-24 05:30:00   1.89  2015-08-24    wait        wait            wait\n",
       "2015-08-24 05:36:00   1.76  2015-08-24    wait        wait            wait\n",
       "2015-08-24 05:42:00   1.64  2015-08-24    wait        walk  earliest_start\n",
       "2015-08-24 05:48:00   1.54  2015-08-24    walk        walk            walk\n",
       "2015-08-24 05:54:00   1.44  2015-08-24    walk        walk            walk\n",
       "2015-08-24 06:00:00   1.35  2015-08-24    walk        walk            walk\n",
       "2015-08-24 06:06:00   1.27  2015-08-24    walk        walk            walk\n",
       "2015-08-24 06:12:00   1.20  2015-08-24    walk        walk            walk\n",
       "2015-08-24 06:18:00   1.14  2015-08-24    walk        walk            walk\n",
       "2015-08-24 06:24:00   1.10  2015-08-24    walk        walk            walk\n",
       "2015-08-24 06:30:00   1.06  2015-08-24    walk        walk            walk\n",
       "2015-08-24 06:36:00   1.03  2015-08-24    walk        walk            walk\n",
       "2015-08-24 06:42:00   1.01  2015-08-24    walk        walk            walk\n",
       "2015-08-24 06:48:00   1.01  2015-08-24    walk        walk            walk\n",
       "2015-08-24 06:54:00   1.01  2015-08-24    walk        walk            walk\n",
       "2015-08-24 07:00:00   1.03  2015-08-24    walk        walk            walk\n",
       "2015-08-24 07:06:00   1.05  2015-08-24    walk        walk            walk\n",
       "2015-08-24 07:12:00   1.09  2015-08-24    walk        wait    latest_start\n",
       "2015-08-24 07:18:00   1.13  2015-08-24    wait        wait            wait\n",
       "2015-08-24 07:24:00   1.18  2015-08-24    wait        wait            wait\n",
       "2015-08-24 07:30:00   1.25  2015-08-24    wait        wait            wait\n",
       "2015-08-24 07:36:00   1.32  2015-08-24    wait        wait            wait\n",
       "2015-08-24 07:42:00   1.40  2015-08-24    wait        wait            wait\n",
       "2015-08-24 07:48:00   1.48  2015-08-24    wait        wait            wait\n",
       "2015-08-24 07:54:00   1.58  2015-08-24    wait        wait            wait\n",
       "2015-08-24 08:00:00   1.68  2015-08-24    wait        wait            wait\n",
       "2015-08-24 08:06:00   1.79  2015-08-24    wait        wait            wait\n",
       "2015-08-24 08:12:00   1.91  2015-08-24    wait        wait   complete_hike\n",
       "2015-08-24 08:18:00   2.03  2015-08-24    wait        wait            wait\n",
       "2015-08-24 08:24:00   2.16  2015-08-24    wait        wait            wait"
      ]
     },
     "execution_count": 53,
     "metadata": {},
     "output_type": "execute_result"
    }
   ],
   "source": [
    "df_sixmin[['Level','Date','go_stay','next_status','start_stop']][date_selector4][50:85]"
   ]
  },
  {
   "cell_type": "markdown",
   "metadata": {},
   "source": [
    "### End Debugging 2 ###"
   ]
  },
  {
   "cell_type": "code",
   "execution_count": 54,
   "metadata": {
    "collapsed": false
   },
   "outputs": [
    {
     "ename": "KeyError",
     "evalue": "\"['Sunrise_dt' 'Sunset_dt'] not in index\"",
     "output_type": "error",
     "traceback": [
      "\u001b[1;31m---------------------------------------------------------------------------\u001b[0m",
      "\u001b[1;31mKeyError\u001b[0m                                  Traceback (most recent call last)",
      "\u001b[1;32m<ipython-input-54-6689121fafaa>\u001b[0m in \u001b[0;36m<module>\u001b[1;34m()\u001b[0m\n\u001b[0;32m      3\u001b[0m cols = ['Level', 'Delta_Sunset','Delta_Sunrise','shift_level','start_stop','enough_light',\n\u001b[0;32m      4\u001b[0m         'enough_beach', 'Sunrise_dt', 'Sunset_dt']\n\u001b[1;32m----> 5\u001b[1;33m \u001b[0mdf_sixmin\u001b[0m \u001b[1;33m=\u001b[0m \u001b[0mdf_sixmin\u001b[0m\u001b[1;33m[\u001b[0m\u001b[0mcols\u001b[0m\u001b[1;33m]\u001b[0m\u001b[1;33m\u001b[0m\u001b[0m\n\u001b[0m",
      "\u001b[1;32mC:\\Users\\Andrew\\Anaconda\\lib\\site-packages\\pandas\\core\\frame.pyc\u001b[0m in \u001b[0;36m__getitem__\u001b[1;34m(self, key)\u001b[0m\n\u001b[0;32m   1789\u001b[0m         \u001b[1;32mif\u001b[0m \u001b[0misinstance\u001b[0m\u001b[1;33m(\u001b[0m\u001b[0mkey\u001b[0m\u001b[1;33m,\u001b[0m \u001b[1;33m(\u001b[0m\u001b[0mSeries\u001b[0m\u001b[1;33m,\u001b[0m \u001b[0mnp\u001b[0m\u001b[1;33m.\u001b[0m\u001b[0mndarray\u001b[0m\u001b[1;33m,\u001b[0m \u001b[0mIndex\u001b[0m\u001b[1;33m,\u001b[0m \u001b[0mlist\u001b[0m\u001b[1;33m)\u001b[0m\u001b[1;33m)\u001b[0m\u001b[1;33m:\u001b[0m\u001b[1;33m\u001b[0m\u001b[0m\n\u001b[0;32m   1790\u001b[0m             \u001b[1;31m# either boolean or fancy integer index\u001b[0m\u001b[1;33m\u001b[0m\u001b[1;33m\u001b[0m\u001b[0m\n\u001b[1;32m-> 1791\u001b[1;33m             \u001b[1;32mreturn\u001b[0m \u001b[0mself\u001b[0m\u001b[1;33m.\u001b[0m\u001b[0m_getitem_array\u001b[0m\u001b[1;33m(\u001b[0m\u001b[0mkey\u001b[0m\u001b[1;33m)\u001b[0m\u001b[1;33m\u001b[0m\u001b[0m\n\u001b[0m\u001b[0;32m   1792\u001b[0m         \u001b[1;32melif\u001b[0m \u001b[0misinstance\u001b[0m\u001b[1;33m(\u001b[0m\u001b[0mkey\u001b[0m\u001b[1;33m,\u001b[0m \u001b[0mDataFrame\u001b[0m\u001b[1;33m)\u001b[0m\u001b[1;33m:\u001b[0m\u001b[1;33m\u001b[0m\u001b[0m\n\u001b[0;32m   1793\u001b[0m             \u001b[1;32mreturn\u001b[0m \u001b[0mself\u001b[0m\u001b[1;33m.\u001b[0m\u001b[0m_getitem_frame\u001b[0m\u001b[1;33m(\u001b[0m\u001b[0mkey\u001b[0m\u001b[1;33m)\u001b[0m\u001b[1;33m\u001b[0m\u001b[0m\n",
      "\u001b[1;32mC:\\Users\\Andrew\\Anaconda\\lib\\site-packages\\pandas\\core\\frame.pyc\u001b[0m in \u001b[0;36m_getitem_array\u001b[1;34m(self, key)\u001b[0m\n\u001b[0;32m   1833\u001b[0m             \u001b[1;32mreturn\u001b[0m \u001b[0mself\u001b[0m\u001b[1;33m.\u001b[0m\u001b[0mtake\u001b[0m\u001b[1;33m(\u001b[0m\u001b[0mindexer\u001b[0m\u001b[1;33m,\u001b[0m \u001b[0maxis\u001b[0m\u001b[1;33m=\u001b[0m\u001b[1;36m0\u001b[0m\u001b[1;33m,\u001b[0m \u001b[0mconvert\u001b[0m\u001b[1;33m=\u001b[0m\u001b[0mFalse\u001b[0m\u001b[1;33m)\u001b[0m\u001b[1;33m\u001b[0m\u001b[0m\n\u001b[0;32m   1834\u001b[0m         \u001b[1;32melse\u001b[0m\u001b[1;33m:\u001b[0m\u001b[1;33m\u001b[0m\u001b[0m\n\u001b[1;32m-> 1835\u001b[1;33m             \u001b[0mindexer\u001b[0m \u001b[1;33m=\u001b[0m \u001b[0mself\u001b[0m\u001b[1;33m.\u001b[0m\u001b[0mix\u001b[0m\u001b[1;33m.\u001b[0m\u001b[0m_convert_to_indexer\u001b[0m\u001b[1;33m(\u001b[0m\u001b[0mkey\u001b[0m\u001b[1;33m,\u001b[0m \u001b[0maxis\u001b[0m\u001b[1;33m=\u001b[0m\u001b[1;36m1\u001b[0m\u001b[1;33m)\u001b[0m\u001b[1;33m\u001b[0m\u001b[0m\n\u001b[0m\u001b[0;32m   1836\u001b[0m             \u001b[1;32mreturn\u001b[0m \u001b[0mself\u001b[0m\u001b[1;33m.\u001b[0m\u001b[0mtake\u001b[0m\u001b[1;33m(\u001b[0m\u001b[0mindexer\u001b[0m\u001b[1;33m,\u001b[0m \u001b[0maxis\u001b[0m\u001b[1;33m=\u001b[0m\u001b[1;36m1\u001b[0m\u001b[1;33m,\u001b[0m \u001b[0mconvert\u001b[0m\u001b[1;33m=\u001b[0m\u001b[0mTrue\u001b[0m\u001b[1;33m)\u001b[0m\u001b[1;33m\u001b[0m\u001b[0m\n\u001b[0;32m   1837\u001b[0m \u001b[1;33m\u001b[0m\u001b[0m\n",
      "\u001b[1;32mC:\\Users\\Andrew\\Anaconda\\lib\\site-packages\\pandas\\core\\indexing.pyc\u001b[0m in \u001b[0;36m_convert_to_indexer\u001b[1;34m(self, obj, axis, is_setter)\u001b[0m\n\u001b[0;32m   1110\u001b[0m                 \u001b[0mmask\u001b[0m \u001b[1;33m=\u001b[0m \u001b[0mcheck\u001b[0m \u001b[1;33m==\u001b[0m \u001b[1;33m-\u001b[0m\u001b[1;36m1\u001b[0m\u001b[1;33m\u001b[0m\u001b[0m\n\u001b[0;32m   1111\u001b[0m                 \u001b[1;32mif\u001b[0m \u001b[0mmask\u001b[0m\u001b[1;33m.\u001b[0m\u001b[0many\u001b[0m\u001b[1;33m(\u001b[0m\u001b[1;33m)\u001b[0m\u001b[1;33m:\u001b[0m\u001b[1;33m\u001b[0m\u001b[0m\n\u001b[1;32m-> 1112\u001b[1;33m                     \u001b[1;32mraise\u001b[0m \u001b[0mKeyError\u001b[0m\u001b[1;33m(\u001b[0m\u001b[1;34m'%s not in index'\u001b[0m \u001b[1;33m%\u001b[0m \u001b[0mobjarr\u001b[0m\u001b[1;33m[\u001b[0m\u001b[0mmask\u001b[0m\u001b[1;33m]\u001b[0m\u001b[1;33m)\u001b[0m\u001b[1;33m\u001b[0m\u001b[0m\n\u001b[0m\u001b[0;32m   1113\u001b[0m \u001b[1;33m\u001b[0m\u001b[0m\n\u001b[0;32m   1114\u001b[0m                 \u001b[1;32mreturn\u001b[0m \u001b[0m_values_from_object\u001b[0m\u001b[1;33m(\u001b[0m\u001b[0mindexer\u001b[0m\u001b[1;33m)\u001b[0m\u001b[1;33m\u001b[0m\u001b[0m\n",
      "\u001b[1;31mKeyError\u001b[0m: \"['Sunrise_dt' 'Sunset_dt'] not in index\""
     ]
    }
   ],
   "source": [
    "# select columns of interest\n",
    "\n",
    "cols = ['Level', 'Delta_Sunset','Delta_Sunrise','shift_level','start_stop','enough_light',\n",
    "        'enough_beach', 'Sunrise_dt', 'Sunset_dt']\n",
    "df_sixmin = df_sixmin[cols]"
   ]
  },
  {
   "cell_type": "code",
   "execution_count": null,
   "metadata": {
    "collapsed": false
   },
   "outputs": [],
   "source": [
    "df_sixmin.head()"
   ]
  },
  {
   "cell_type": "markdown",
   "metadata": {},
   "source": [
    "### Data check ##\n",
    "\n",
    "- spot check of sunrise and sunset times for PST and PDT revealed that calculated times match published\n",
    "- A plot of weekly tide levels for a sample week (week 35), shown below was a good match for NOAA tide curves\n",
    "- A spot check of tide levels matches pattern and magnitude of highs and lows + 5.5% compared to NOAA data\n",
    "\n",
    "http://tidesandcurrents.noaa.gov/noaatidepredictions/NOAATidesFacade.jsp?Stationid=9447130&bmon=08&bday=26&byear=2015&edate=&timelength=weekly&timeZone=2&dataUnits=1&datum=MLLW&timeUnits=2&interval=highlow&Threshold=greaterthanequal&format=Submit"
   ]
  },
  {
   "cell_type": "code",
   "execution_count": null,
   "metadata": {
    "collapsed": false
   },
   "outputs": [],
   "source": [
    "df_sixmin[df_sixmin.index.week ==35].Level.plot()"
   ]
  },
  {
   "cell_type": "code",
   "execution_count": null,
   "metadata": {
    "collapsed": true
   },
   "outputs": [],
   "source": [
    "df_sixmin[df_sixmin.index.week == 35][930:980]"
   ]
  },
  {
   "cell_type": "markdown",
   "metadata": {},
   "source": [
    "### General Strategy ###\n",
    "\n",
    "- Previous EDA (not shown) revealed ~ 155 days per year as meeting criteria to hike (enough light and beach)\n",
    "- This was distrubuted over 9 total months and 35 total weeks\n",
    "- Decided on a strategy where either an entire week is shows, or an entire day is shown\n",
    "- Further EDA and visualiation shoudl reveal which is best"
   ]
  },
  {
   "cell_type": "markdown",
   "metadata": {},
   "source": [
    "### EDA ###"
   ]
  },
  {
   "cell_type": "code",
   "execution_count": null,
   "metadata": {
    "collapsed": false
   },
   "outputs": [],
   "source": [
    "df_sixmin['Month'] = df_sixmin.index.month\n",
    "df_sixmin['Week'] = df_sixmin.index.week\n",
    "df_sixmin['Date'] = df_sixmin.index.date\n",
    "df_sixmin['Day'] = df_sixmin.index.dayofyear\n",
    "df_sixmin['Time'] = df_sixmin.index.time\n",
    "df_sixmin['DateTime'] = df_sixmin.index"
   ]
  },
  {
   "cell_type": "markdown",
   "metadata": {},
   "source": [
    "The selection below is problematic, it selects any day with enough light and enough beach, not necessarily those that have it at the same time.  You should use start and stop as selectors, a day should have both a start and a stop time.  I'm actually going to try this with just a start time.\n",
    "\n",
    "df_enough = df_sixmin[(df_sixmin.enough_beach == 'yes') & (df_sixmin.enough_light == 'yes')]"
   ]
  },
  {
   "cell_type": "code",
   "execution_count": null,
   "metadata": {
    "collapsed": false
   },
   "outputs": [],
   "source": [
    "df_enough = df_sixmin[(df_sixmin.start_stop == 'earliest_start')]\n",
    "df_enough.head()"
   ]
  },
  {
   "cell_type": "code",
   "execution_count": null,
   "metadata": {
    "collapsed": false
   },
   "outputs": [],
   "source": [
    "# number of good days\n",
    "\n",
    "len(df_enough.groupby(df_enough.index.date).mean())"
   ]
  },
  {
   "cell_type": "code",
   "execution_count": null,
   "metadata": {
    "collapsed": false
   },
   "outputs": [],
   "source": [
    "# number of weeks with good days\n",
    "\n",
    "len(df_enough.groupby(df_enough.index.week).mean())"
   ]
  },
  {
   "cell_type": "code",
   "execution_count": null,
   "metadata": {
    "collapsed": false
   },
   "outputs": [],
   "source": [
    "# number of months with good days\n",
    "\n",
    "len(df_enough.groupby(df_enough.index.month).count())"
   ]
  },
  {
   "cell_type": "code",
   "execution_count": null,
   "metadata": {
    "collapsed": false
   },
   "outputs": [],
   "source": [
    "# which weeks?\n",
    "\n",
    "df_enough.groupby(df_enough.index.week).mean().index"
   ]
  },
  {
   "cell_type": "code",
   "execution_count": null,
   "metadata": {
    "collapsed": false
   },
   "outputs": [],
   "source": [
    "# which months?\n",
    "\n",
    "df_enough.groupby(df_enough.index.month).mean().index"
   ]
  },
  {
   "cell_type": "code",
   "execution_count": null,
   "metadata": {
    "collapsed": false
   },
   "outputs": [],
   "source": [
    "# get good weeks (the entire week)\n",
    "\n",
    "df_enough_weeks= df_sixmin[(df_sixmin.Week.isin(df_sixmin.Week.unique())) & (df_sixmin.Level < 100)]\n",
    "\n",
    "df_enough_weeks.head()"
   ]
  },
  {
   "cell_type": "code",
   "execution_count": null,
   "metadata": {
    "collapsed": false
   },
   "outputs": [],
   "source": [
    "# we only have part of week 34 so this is a plot of 2 consecutive days\n",
    "\n",
    "df_enough_weeks[df_enough_weeks.Week == 34].Level.plot(figsize = (16,6))"
   ]
  },
  {
   "cell_type": "code",
   "execution_count": null,
   "metadata": {
    "collapsed": false
   },
   "outputs": [],
   "source": [
    "df_enough_weeks[df_enough_weeks.Week == 6].Level.plot(figsize = (16,6))"
   ]
  },
  {
   "cell_type": "code",
   "execution_count": null,
   "metadata": {
    "collapsed": false
   },
   "outputs": [],
   "source": [
    "df_enough_weeks[df_enough_weeks.Week == 35].Level.plot(figsize = (16,6))"
   ]
  },
  {
   "cell_type": "markdown",
   "metadata": {},
   "source": [
    "###Select Viable Days###\n",
    "Select the entire day for each viable day."
   ]
  },
  {
   "cell_type": "code",
   "execution_count": null,
   "metadata": {
    "collapsed": false
   },
   "outputs": [],
   "source": [
    "# get good days (the entire day)\n",
    "\n",
    "df_enough_days= df_sixmin[(df_sixmin.Date.isin(df_enough.Date.unique())) & (df_sixmin.Level < 100)]\n",
    "\n",
    "df_enough_days.head()"
   ]
  },
  {
   "cell_type": "code",
   "execution_count": null,
   "metadata": {
    "collapsed": false
   },
   "outputs": [],
   "source": [
    "df_enough_days.columns"
   ]
  },
  {
   "cell_type": "code",
   "execution_count": null,
   "metadata": {
    "collapsed": false
   },
   "outputs": [],
   "source": [
    "# check September 26\n",
    "\n",
    "df_enough_days[['Level','shift_level','enough_light','enough_beach','start_stop','Date']][date_selector_sep][80:120]\n",
    "\n"
   ]
  },
  {
   "cell_type": "code",
   "execution_count": null,
   "metadata": {
    "collapsed": false
   },
   "outputs": [],
   "source": [
    "# check earliest starts\n",
    "\n",
    "df_enough[['Level','shift_level','enough_light','enough_beach','start_stop','Date']]\n"
   ]
  },
  {
   "cell_type": "raw",
   "metadata": {
    "collapsed": false
   },
   "source": [
    "set(df_enough_days.Day)"
   ]
  },
  {
   "cell_type": "code",
   "execution_count": null,
   "metadata": {
    "collapsed": false
   },
   "outputs": [],
   "source": [
    "# plotting a single day of the year\n",
    "\n",
    "df_enough_days[df_enough_days.Day == 236].Level.plot()"
   ]
  },
  {
   "cell_type": "code",
   "execution_count": null,
   "metadata": {
    "collapsed": false
   },
   "outputs": [],
   "source": [
    "# plotting 2 consecutive days\n",
    "\n",
    "df_enough_days[df_enough_days.Day.isin([235,236])].Level.plot()"
   ]
  },
  {
   "cell_type": "code",
   "execution_count": null,
   "metadata": {
    "collapsed": false
   },
   "outputs": [],
   "source": [
    "# plotting 2 non-consecutive days\n",
    "\n",
    "df_enough_days[df_enough_days.Day.isin([235,240])].Level.plot()\n",
    "\n",
    "# so yeah, should clearly use subplots "
   ]
  },
  {
   "cell_type": "markdown",
   "metadata": {},
   "source": [
    "### Start moving this into a useful form for dimple ###\n",
    "\n"
   ]
  },
  {
   "cell_type": "code",
   "execution_count": null,
   "metadata": {
    "collapsed": false
   },
   "outputs": [],
   "source": [
    "dimple_cols = ['Level', 'start_stop','Date','Time','DateTime','Day', 'Sunrise_dt','Sunset_dt']\n",
    "df_dimple_days = df_enough_days[dimple_cols]\n",
    "df_dimple_weeks = df_enough_weeks[dimple_cols]"
   ]
  },
  {
   "cell_type": "code",
   "execution_count": null,
   "metadata": {
    "collapsed": false
   },
   "outputs": [],
   "source": [
    "df_dimple_days.head()"
   ]
  },
  {
   "cell_type": "code",
   "execution_count": null,
   "metadata": {
    "collapsed": false
   },
   "outputs": [],
   "source": [
    "df_dimple_weeks.head()"
   ]
  },
  {
   "cell_type": "code",
   "execution_count": null,
   "metadata": {
    "collapsed": false
   },
   "outputs": [],
   "source": [
    "df_dimple_startstop = df_dimple_weeks[(df_dimple_weeks.start_stop == 'earliest_start') | (df_dimple_weeks.start_stop == 'latest_start')]\n",
    "df_dimple_startstop.head()"
   ]
  },
  {
   "cell_type": "code",
   "execution_count": null,
   "metadata": {
    "collapsed": false
   },
   "outputs": [],
   "source": [
    "# export TSV\n",
    "\n",
    "df_dimple_days.to_csv('data/tide_days.tsv', index = False,sep = '\\t')\n",
    "#df_dimple_startstop.to_csv('data/tide_startstop.tsv', index = False,sep = '\\t')\n",
    "#df_dimple_weeks.to_csv('data/tide_weeks.tsv', index = False,sep = '\\t')\n",
    "\n",
    "# export to JSON (upcoming feature)\n",
    "#df_dimple_days.to_json('data/tide_days.json')\n"
   ]
  },
  {
   "cell_type": "markdown",
   "metadata": {},
   "source": [
    "### Data Check ###"
   ]
  },
  {
   "cell_type": "code",
   "execution_count": null,
   "metadata": {
    "collapsed": false
   },
   "outputs": [],
   "source": [
    "df_enough_days[df_enough_days.Level == df_enough_days.Level.min()]"
   ]
  },
  {
   "cell_type": "code",
   "execution_count": null,
   "metadata": {
    "collapsed": true
   },
   "outputs": [],
   "source": []
  },
  {
   "cell_type": "code",
   "execution_count": null,
   "metadata": {
    "collapsed": true
   },
   "outputs": [],
   "source": []
  }
 ],
 "metadata": {
  "kernelspec": {
   "display_name": "Python 2",
   "language": "python",
   "name": "python2"
  },
  "language_info": {
   "codemirror_mode": {
    "name": "ipython",
    "version": 2
   },
   "file_extension": ".py",
   "mimetype": "text/x-python",
   "name": "python",
   "nbconvert_exporter": "python",
   "pygments_lexer": "ipython2",
   "version": "2.7.6"
  }
 },
 "nbformat": 4,
 "nbformat_minor": 0
}
